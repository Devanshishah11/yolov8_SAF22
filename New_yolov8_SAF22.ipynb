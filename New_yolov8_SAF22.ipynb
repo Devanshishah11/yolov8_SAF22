{
 "cells": [
  {
   "cell_type": "code",
   "execution_count": 1,
   "id": "ad82a2cc",
   "metadata": {},
   "outputs": [],
   "source": [
    "import json\n",
    "import matplotlib.pyplot as plt\n",
    "from PIL import Image, ImageEnhance, ImageOps\n",
    "import matplotlib.patches as patches\n",
    "import numpy as np\n",
    "import os\n",
    "import shutil\n",
    "from sklearn.model_selection import train_test_split\n",
    "import random"
   ]
  },
  {
   "cell_type": "code",
   "execution_count": 2,
   "id": "0fb3a203",
   "metadata": {},
   "outputs": [],
   "source": [
    "def convert_coco_to_yolo(image_ids, images, annotations, categories, category_name_to_id, images_dir, output_dir):\n",
    "    os.makedirs(output_dir, exist_ok=True)\n",
    "    os.makedirs(os.path.join(output_dir, 'labels'), exist_ok=True)\n",
    "    os.makedirs(os.path.join(output_dir, 'images'), exist_ok=True)\n",
    "\n",
    "    for image_id in image_ids:\n",
    "        image_info = images[image_id]\n",
    "        image_filename = image_info['file_name']\n",
    "        image_width = image_info['width']\n",
    "        image_height = image_info['height']\n",
    "        image_path = os.path.join(images_dir, image_filename)\n",
    "\n",
    "        if not os.path.exists(image_path):\n",
    "            continue\n",
    "\n",
    "        output_image_path = os.path.join(output_dir, 'images', image_filename)\n",
    "        output_label_path = os.path.join(output_dir, 'labels', os.path.splitext(image_filename)[0] + '.txt')\n",
    "\n",
    "        shutil.copyfile(image_path, output_image_path)\n",
    "\n",
    "        image_annotations = [ann for ann in annotations if ann['image_id'] == image_id]\n",
    "        with open(output_label_path, 'a') as f:\n",
    "            for annotation in image_annotations:\n",
    "                category_name = categories[annotation['category_id']]['name']\n",
    "                category_id = category_name_to_id[category_name]\n",
    "                \n",
    "                # Normalize bounding box coordinates\n",
    "                bbox = annotation['bbox']\n",
    "                bbox[0] /= image_width  # x\n",
    "                bbox[1] /= image_height # y\n",
    "                bbox[2] /= image_width  # width\n",
    "                bbox[3] /= image_height # height\n",
    "                bbox_str = ' '.join(map(str, bbox))\n",
    "\n",
    "                # Normalize segmentation points\n",
    "                segmentation = annotation['segmentation'][0]\n",
    "                segmentation = np.array(segmentation).reshape((-1, 2))\n",
    "                segmentation[:, 0] /= image_width   # x points\n",
    "                segmentation[:, 1] /= image_height  # y points\n",
    "                segmentation_str = ' '.join(map(str, segmentation.flatten()))\n",
    "\n",
    "                f.write(f\"{category_id} {bbox_str} {segmentation_str}\\n\")"
   ]
  },
  {
   "cell_type": "code",
   "execution_count": 3,
   "id": "fce7c055",
   "metadata": {},
   "outputs": [
    {
     "name": "stdout",
     "output_type": "stream",
     "text": [
      "Data converted and split into train and val sets successfully!\n"
     ]
    }
   ],
   "source": [
    "# Paths to your data\n",
    "coco_annotations_path = 'SAF22_COCO_CorentinDoche.json'\n",
    "images_dir = 'images'  # Change this to your image directory\n",
    "output_dir = 'output'  # Directory where YOLO formatted data will be saved\n",
    "\n",
    "# Load COCO annotations\n",
    "with open(coco_annotations_path, 'r') as f:\n",
    "    data = json.load(f)\n",
    "\n",
    "images = {image['id']: image for image in data['images']}\n",
    "annotations = data['annotations']\n",
    "categories = {category['id']: category for category in data['categories']}\n",
    "category_name_to_id = {category['name']: idx for idx, category in enumerate(categories.values())}\n",
    "\n",
    "# Collect all image IDs\n",
    "all_image_ids = list(images.keys())\n",
    "\n",
    "# Split data into train and validation sets\n",
    "train_image_ids, val_image_ids = train_test_split(all_image_ids, test_size=0.2, random_state=42)\n",
    "\n",
    "# Define paths for train and validation\n",
    "train_dir = os.path.join(output_dir, 'train')\n",
    "val_dir = os.path.join(output_dir, 'val')\n",
    "\n",
    "# Convert and save the training data\n",
    "convert_coco_to_yolo(train_image_ids, images, annotations, categories, category_name_to_id, images_dir, train_dir)\n",
    "\n",
    "# Convert and save the validation data\n",
    "convert_coco_to_yolo(val_image_ids, images, annotations, categories, category_name_to_id, images_dir, val_dir)\n",
    "\n",
    "print(\"Data converted and split into train and val sets successfully!\")\n"
   ]
  },
  {
   "cell_type": "code",
   "execution_count": 3,
   "id": "4f899944",
   "metadata": {},
   "outputs": [],
   "source": [
    "from ultralytics import YOLO"
   ]
  },
  {
   "cell_type": "code",
   "execution_count": 5,
   "id": "fe1235e8",
   "metadata": {},
   "outputs": [],
   "source": [
    "# load a pretrained model (recommended for training)\n",
    "model = YOLO(\"yolov8n-seg.pt\")  "
   ]
  },
  {
   "cell_type": "code",
   "execution_count": 6,
   "id": "694cc0a1",
   "metadata": {
    "scrolled": false
   },
   "outputs": [
    {
     "name": "stdout",
     "output_type": "stream",
     "text": [
      "Ultralytics YOLOv8.2.61  Python-3.12.4 torch-2.3.1+cpu CPU (11th Gen Intel Core(TM) i7-1165G7 2.80GHz)\n",
      "\u001b[34m\u001b[1mengine\\trainer: \u001b[0mtask=segment, mode=train, model=yolov8n-seg.pt, data=C:/Users/devan/OneDrive - University of Sussex/SAF_Project/Instance_seg_labels/custom_dataset.yaml, epochs=5, time=None, patience=100, batch=16, imgsz=640, save=True, save_period=-1, cache=False, device=None, workers=8, project=None, name=train21, exist_ok=False, pretrained=True, optimizer=auto, verbose=True, seed=0, deterministic=True, single_cls=False, rect=False, cos_lr=False, close_mosaic=10, resume=False, amp=True, fraction=1.0, profile=False, freeze=None, multi_scale=False, overlap_mask=True, mask_ratio=4, dropout=0.0, val=True, split=val, save_json=False, save_hybrid=False, conf=None, iou=0.7, max_det=300, half=False, dnn=False, plots=True, source=None, vid_stride=1, stream_buffer=False, visualize=False, augment=False, agnostic_nms=False, classes=None, retina_masks=False, embed=None, show=False, save_frames=False, save_txt=False, save_conf=False, save_crop=False, show_labels=True, show_conf=True, show_boxes=True, line_width=None, format=torchscript, keras=False, optimize=False, int8=False, dynamic=False, simplify=False, opset=None, workspace=4, nms=False, lr0=0.01, lrf=0.01, momentum=0.937, weight_decay=0.0005, warmup_epochs=3.0, warmup_momentum=0.8, warmup_bias_lr=0.1, box=7.5, cls=0.5, dfl=1.5, pose=12.0, kobj=1.0, label_smoothing=0.0, nbs=64, hsv_h=0.015, hsv_s=0.7, hsv_v=0.4, degrees=0.0, translate=0.1, scale=0.5, shear=0.0, perspective=0.0, flipud=0.0, fliplr=0.5, bgr=0.0, mosaic=1.0, mixup=0.0, copy_paste=0.0, auto_augment=randaugment, erasing=0.4, crop_fraction=1.0, cfg=None, tracker=botsort.yaml, save_dir=runs\\segment\\train21\n",
      "Overriding model.yaml nc=80 with nc=4\n",
      "\n",
      "                   from  n    params  module                                       arguments                     \n",
      "  0                  -1  1       464  ultralytics.nn.modules.conv.Conv             [3, 16, 3, 2]                 \n",
      "  1                  -1  1      4672  ultralytics.nn.modules.conv.Conv             [16, 32, 3, 2]                \n",
      "  2                  -1  1      7360  ultralytics.nn.modules.block.C2f             [32, 32, 1, True]             \n",
      "  3                  -1  1     18560  ultralytics.nn.modules.conv.Conv             [32, 64, 3, 2]                \n",
      "  4                  -1  2     49664  ultralytics.nn.modules.block.C2f             [64, 64, 2, True]             \n",
      "  5                  -1  1     73984  ultralytics.nn.modules.conv.Conv             [64, 128, 3, 2]               \n",
      "  6                  -1  2    197632  ultralytics.nn.modules.block.C2f             [128, 128, 2, True]           \n",
      "  7                  -1  1    295424  ultralytics.nn.modules.conv.Conv             [128, 256, 3, 2]              \n",
      "  8                  -1  1    460288  ultralytics.nn.modules.block.C2f             [256, 256, 1, True]           \n",
      "  9                  -1  1    164608  ultralytics.nn.modules.block.SPPF            [256, 256, 5]                 \n",
      " 10                  -1  1         0  torch.nn.modules.upsampling.Upsample         [None, 2, 'nearest']          \n",
      " 11             [-1, 6]  1         0  ultralytics.nn.modules.conv.Concat           [1]                           \n",
      " 12                  -1  1    148224  ultralytics.nn.modules.block.C2f             [384, 128, 1]                 \n",
      " 13                  -1  1         0  torch.nn.modules.upsampling.Upsample         [None, 2, 'nearest']          \n",
      " 14             [-1, 4]  1         0  ultralytics.nn.modules.conv.Concat           [1]                           \n",
      " 15                  -1  1     37248  ultralytics.nn.modules.block.C2f             [192, 64, 1]                  \n",
      " 16                  -1  1     36992  ultralytics.nn.modules.conv.Conv             [64, 64, 3, 2]                \n",
      " 17            [-1, 12]  1         0  ultralytics.nn.modules.conv.Concat           [1]                           \n",
      " 18                  -1  1    123648  ultralytics.nn.modules.block.C2f             [192, 128, 1]                 \n",
      " 19                  -1  1    147712  ultralytics.nn.modules.conv.Conv             [128, 128, 3, 2]              \n",
      " 20             [-1, 9]  1         0  ultralytics.nn.modules.conv.Concat           [1]                           \n",
      " 21                  -1  1    493056  ultralytics.nn.modules.block.C2f             [384, 256, 1]                 \n",
      " 22        [15, 18, 21]  1   1004860  ultralytics.nn.modules.head.Segment          [4, 32, 64, [64, 128, 256]]   \n",
      "YOLOv8n-seg summary: 261 layers, 3,264,396 parameters, 3,264,380 gradients, 12.1 GFLOPs\n",
      "\n",
      "Transferred 381/417 items from pretrained weights\n"
     ]
    },
    {
     "name": "stderr",
     "output_type": "stream",
     "text": [
      "Failed to detect the name of this notebook, you can set it manually with the WANDB_NOTEBOOK_NAME environment variable to enable code saving.\n",
      "\u001b[34m\u001b[1mwandb\u001b[0m: Currently logged in as: \u001b[33mds678\u001b[0m (\u001b[33mds678-university-of-sussex\u001b[0m). Use \u001b[1m`wandb login --relogin`\u001b[0m to force relogin\n"
     ]
    },
    {
     "data": {
      "text/html": [
       "Tracking run with wandb version 0.17.5"
      ],
      "text/plain": [
       "<IPython.core.display.HTML object>"
      ]
     },
     "metadata": {},
     "output_type": "display_data"
    },
    {
     "data": {
      "text/html": [
       "Run data is saved locally in <code>C:\\Users\\devan\\OneDrive - University of Sussex\\SAF_Project\\Instance_seg_labels\\wandb\\run-20240720_225424-01t39j7l</code>"
      ],
      "text/plain": [
       "<IPython.core.display.HTML object>"
      ]
     },
     "metadata": {},
     "output_type": "display_data"
    },
    {
     "data": {
      "text/html": [
       "Syncing run <strong><a href='https://wandb.ai/ds678-university-of-sussex/YOLOv8/runs/01t39j7l' target=\"_blank\">train21</a></strong> to <a href='https://wandb.ai/ds678-university-of-sussex/YOLOv8' target=\"_blank\">Weights & Biases</a> (<a href='https://wandb.me/run' target=\"_blank\">docs</a>)<br/>"
      ],
      "text/plain": [
       "<IPython.core.display.HTML object>"
      ]
     },
     "metadata": {},
     "output_type": "display_data"
    },
    {
     "data": {
      "text/html": [
       " View project at <a href='https://wandb.ai/ds678-university-of-sussex/YOLOv8' target=\"_blank\">https://wandb.ai/ds678-university-of-sussex/YOLOv8</a>"
      ],
      "text/plain": [
       "<IPython.core.display.HTML object>"
      ]
     },
     "metadata": {},
     "output_type": "display_data"
    },
    {
     "data": {
      "text/html": [
       " View run at <a href='https://wandb.ai/ds678-university-of-sussex/YOLOv8/runs/01t39j7l' target=\"_blank\">https://wandb.ai/ds678-university-of-sussex/YOLOv8/runs/01t39j7l</a>"
      ],
      "text/plain": [
       "<IPython.core.display.HTML object>"
      ]
     },
     "metadata": {},
     "output_type": "display_data"
    },
    {
     "name": "stdout",
     "output_type": "stream",
     "text": [
      "Freezing layer 'model.22.dfl.conv.weight'\n"
     ]
    },
    {
     "name": "stderr",
     "output_type": "stream",
     "text": [
      "\u001b[34m\u001b[1mtrain: \u001b[0mScanning C:\\Users\\devan\\OneDrive - University of Sussex\\SAF_Project\\Instance_seg_labels\\output\\train\\labels... 4\u001b[0m"
     ]
    },
    {
     "name": "stdout",
     "output_type": "stream",
     "text": [
      "\u001b[34m\u001b[1mtrain: \u001b[0mWARNING  C:\\Users\\devan\\OneDrive - University of Sussex\\SAF_Project\\Instance_seg_labels\\output\\train\\images\\ABCCWS001_frame_13.png: 2 duplicate labels removed\n",
      "\u001b[34m\u001b[1mtrain: \u001b[0mWARNING  C:\\Users\\devan\\OneDrive - University of Sussex\\SAF_Project\\Instance_seg_labels\\output\\train\\images\\ABCCWS001_frame_14.png: 2 duplicate labels removed\n",
      "\u001b[34m\u001b[1mtrain: \u001b[0mWARNING  C:\\Users\\devan\\OneDrive - University of Sussex\\SAF_Project\\Instance_seg_labels\\output\\train\\images\\ABCCWS001_frame_22.png: 102 duplicate labels removed\n",
      "\u001b[34m\u001b[1mtrain: \u001b[0mWARNING  C:\\Users\\devan\\OneDrive - University of Sussex\\SAF_Project\\Instance_seg_labels\\output\\train\\images\\ABCCWS001_frame_23.png: 94 duplicate labels removed\n",
      "\u001b[34m\u001b[1mtrain: \u001b[0mWARNING  C:\\Users\\devan\\OneDrive - University of Sussex\\SAF_Project\\Instance_seg_labels\\output\\train\\images\\ABCCWS001_frame_25.png: 48 duplicate labels removed\n",
      "\u001b[34m\u001b[1mtrain: \u001b[0mWARNING  C:\\Users\\devan\\OneDrive - University of Sussex\\SAF_Project\\Instance_seg_labels\\output\\train\\images\\ABCCWS001_frame_26.png: 32 duplicate labels removed\n",
      "\u001b[34m\u001b[1mtrain: \u001b[0mWARNING  C:\\Users\\devan\\OneDrive - University of Sussex\\SAF_Project\\Instance_seg_labels\\output\\train\\images\\ABCCWS002_frame_21.png: 118 duplicate labels removed\n",
      "\u001b[34m\u001b[1mtrain: \u001b[0mWARNING  C:\\Users\\devan\\OneDrive - University of Sussex\\SAF_Project\\Instance_seg_labels\\output\\train\\images\\ABCCWS002_frame_24.png: 70 duplicate labels removed\n",
      "\u001b[34m\u001b[1mtrain: \u001b[0mWARNING  C:\\Users\\devan\\OneDrive - University of Sussex\\SAF_Project\\Instance_seg_labels\\output\\train\\images\\ABTCWS002_frame_21.png: 90 duplicate labels removed\n",
      "\u001b[34m\u001b[1mtrain: \u001b[0mWARNING  C:\\Users\\devan\\OneDrive - University of Sussex\\SAF_Project\\Instance_seg_labels\\output\\train\\images\\ABTCWS002_frame_24.png: 42 duplicate labels removed\n",
      "\u001b[34m\u001b[1mtrain: \u001b[0mWARNING  C:\\Users\\devan\\OneDrive - University of Sussex\\SAF_Project\\Instance_seg_labels\\output\\train\\images\\ABTCWS002_frame_39.png: 6 duplicate labels removed\n",
      "\u001b[34m\u001b[1mtrain: \u001b[0mWARNING  C:\\Users\\devan\\OneDrive - University of Sussex\\SAF_Project\\Instance_seg_labels\\output\\train\\images\\ABTCWS004_frame_13.png: 2 duplicate labels removed\n",
      "\u001b[34m\u001b[1mtrain: \u001b[0mWARNING  C:\\Users\\devan\\OneDrive - University of Sussex\\SAF_Project\\Instance_seg_labels\\output\\train\\images\\ABTCWS004_frame_21.png: 98 duplicate labels removed\n",
      "\u001b[34m\u001b[1mtrain: \u001b[0mWARNING  C:\\Users\\devan\\OneDrive - University of Sussex\\SAF_Project\\Instance_seg_labels\\output\\train\\images\\ABTCWS004_frame_24.png: 42 duplicate labels removed\n",
      "\u001b[34m\u001b[1mtrain: \u001b[0mWARNING  C:\\Users\\devan\\OneDrive - University of Sussex\\SAF_Project\\Instance_seg_labels\\output\\train\\images\\ABTCWS004_frame_25.png: 30 duplicate labels removed\n",
      "\u001b[34m\u001b[1mtrain: \u001b[0mWARNING  C:\\Users\\devan\\OneDrive - University of Sussex\\SAF_Project\\Instance_seg_labels\\output\\train\\images\\ABTCWS004_frame_28.png: 22 duplicate labels removed\n",
      "\u001b[34m\u001b[1mtrain: \u001b[0mWARNING  C:\\Users\\devan\\OneDrive - University of Sussex\\SAF_Project\\Instance_seg_labels\\output\\train\\images\\ABXCWS002_frame_27.png: 32 duplicate labels removed\n",
      "\u001b[34m\u001b[1mtrain: \u001b[0mWARNING  C:\\Users\\devan\\OneDrive - University of Sussex\\SAF_Project\\Instance_seg_labels\\output\\train\\images\\BBCCWS001_frame_13.png: 2 duplicate labels removed\n",
      "\u001b[34m\u001b[1mtrain: \u001b[0mWARNING  C:\\Users\\devan\\OneDrive - University of Sussex\\SAF_Project\\Instance_seg_labels\\output\\train\\images\\BBCCWS001_frame_14.png: 24 duplicate labels removed\n",
      "\u001b[34m\u001b[1mtrain: \u001b[0mWARNING  C:\\Users\\devan\\OneDrive - University of Sussex\\SAF_Project\\Instance_seg_labels\\output\\train\\images\\BBXCWS003_frame_26.png: 18 duplicate labels removed\n",
      "\u001b[34m\u001b[1mtrain: \u001b[0mWARNING  C:\\Users\\devan\\OneDrive - University of Sussex\\SAF_Project\\Instance_seg_labels\\output\\train\\images\\FBKAVS001_frame_14.png: 2 duplicate labels removed\n",
      "\u001b[34m\u001b[1mtrain: \u001b[0mWARNING  C:\\Users\\devan\\OneDrive - University of Sussex\\SAF_Project\\Instance_seg_labels\\output\\train\\images\\FBKAVS001_frame_21.png: 140 duplicate labels removed\n",
      "\u001b[34m\u001b[1mtrain: \u001b[0mWARNING  C:\\Users\\devan\\OneDrive - University of Sussex\\SAF_Project\\Instance_seg_labels\\output\\train\\images\\FBKAVS001_frame_25.png: 52 duplicate labels removed\n",
      "\u001b[34m\u001b[1mtrain: \u001b[0mWARNING  C:\\Users\\devan\\OneDrive - University of Sussex\\SAF_Project\\Instance_seg_labels\\output\\train\\images\\FBXCWS001_frame_14.png: 2 duplicate labels removed\n",
      "\u001b[34m\u001b[1mtrain: \u001b[0mWARNING  C:\\Users\\devan\\OneDrive - University of Sussex\\SAF_Project\\Instance_seg_labels\\output\\train\\images\\FBXCWS001_frame_20.png: 92 duplicate labels removed\n",
      "\u001b[34m\u001b[1mtrain: \u001b[0mWARNING  C:\\Users\\devan\\OneDrive - University of Sussex\\SAF_Project\\Instance_seg_labels\\output\\train\\images\\FBXCWS001_frame_21.png: 36 duplicate labels removed\n",
      "\u001b[34m\u001b[1mtrain: \u001b[0mWARNING  C:\\Users\\devan\\OneDrive - University of Sussex\\SAF_Project\\Instance_seg_labels\\output\\train\\images\\FBXCWS001_frame_22.png: 22 duplicate labels removed\n",
      "\u001b[34m\u001b[1mtrain: \u001b[0mWARNING  C:\\Users\\devan\\OneDrive - University of Sussex\\SAF_Project\\Instance_seg_labels\\output\\train\\images\\FBXCWS001_frame_24.png: 32 duplicate labels removed\n",
      "\u001b[34m\u001b[1mtrain: \u001b[0mWARNING  C:\\Users\\devan\\OneDrive - University of Sussex\\SAF_Project\\Instance_seg_labels\\output\\train\\images\\FBXCWS001_frame_26.png: 20 duplicate labels removed\n",
      "\u001b[34m\u001b[1mtrain: \u001b[0mWARNING  C:\\Users\\devan\\OneDrive - University of Sussex\\SAF_Project\\Instance_seg_labels\\output\\train\\images\\JBIDVS003_frame_13.png: 2 duplicate labels removed\n",
      "\u001b[34m\u001b[1mtrain: \u001b[0mWARNING  C:\\Users\\devan\\OneDrive - University of Sussex\\SAF_Project\\Instance_seg_labels\\output\\train\\images\\JBIDVS003_frame_20.png: 106 duplicate labels removed\n",
      "\u001b[34m\u001b[1mtrain: \u001b[0mWARNING  C:\\Users\\devan\\OneDrive - University of Sussex\\SAF_Project\\Instance_seg_labels\\output\\train\\images\\JBIDVS003_frame_22.png: 104 duplicate labels removed\n",
      "\u001b[34m\u001b[1mtrain: \u001b[0mWARNING  C:\\Users\\devan\\OneDrive - University of Sussex\\SAF_Project\\Instance_seg_labels\\output\\train\\images\\JBIDVS003_frame_28.png: 30 duplicate labels removed\n",
      "\u001b[34m\u001b[1mtrain: \u001b[0mWARNING  C:\\Users\\devan\\OneDrive - University of Sussex\\SAF_Project\\Instance_seg_labels\\output\\train\\images\\JBKLWS002_frame_13.png: 2 duplicate labels removed\n",
      "\u001b[34m\u001b[1mtrain: \u001b[0mWARNING  C:\\Users\\devan\\OneDrive - University of Sussex\\SAF_Project\\Instance_seg_labels\\output\\train\\images\\JBVDVS002_frame_21.png: 152 duplicate labels removed\n",
      "\u001b[34m\u001b[1mtrain: \u001b[0mWARNING  C:\\Users\\devan\\OneDrive - University of Sussex\\SAF_Project\\Instance_seg_labels\\output\\train\\images\\JBVDVS002_frame_23.png: 90 duplicate labels removed\n",
      "\u001b[34m\u001b[1mtrain: \u001b[0mWARNING  C:\\Users\\devan\\OneDrive - University of Sussex\\SAF_Project\\Instance_seg_labels\\output\\train\\images\\SBTCWS003_frame_21.png: 66 duplicate labels removed\n",
      "\u001b[34m\u001b[1mtrain: \u001b[0mWARNING  C:\\Users\\devan\\OneDrive - University of Sussex\\SAF_Project\\Instance_seg_labels\\output\\train\\images\\SBTCWS003_frame_23.png: 40 duplicate labels removed\n",
      "\u001b[34m\u001b[1mtrain: \u001b[0mWARNING  C:\\Users\\devan\\OneDrive - University of Sussex\\SAF_Project\\Instance_seg_labels\\output\\train\\images\\SBTCWS003_frame_24.png: 46 duplicate labels removed\n",
      "\u001b[34m\u001b[1mtrain: \u001b[0mWARNING  C:\\Users\\devan\\OneDrive - University of Sussex\\SAF_Project\\Instance_seg_labels\\output\\train\\images\\SBTCWS003_frame_26.png: 30 duplicate labels removed\n",
      "\u001b[34m\u001b[1mtrain: \u001b[0mWARNING  C:\\Users\\devan\\OneDrive - University of Sussex\\SAF_Project\\Instance_seg_labels\\output\\train\\images\\SBVCVS002_frame_20.png: 150 duplicate labels removed\n",
      "\u001b[34m\u001b[1mtrain: \u001b[0mWARNING  C:\\Users\\devan\\OneDrive - University of Sussex\\SAF_Project\\Instance_seg_labels\\output\\train\\images\\SBVCVS002_frame_21.png: 80 duplicate labels removed\n",
      "\u001b[34m\u001b[1mtrain: \u001b[0mNew cache created: C:\\Users\\devan\\OneDrive - University of Sussex\\SAF_Project\\Instance_seg_labels\\output\\train\\labels.cache\n"
     ]
    },
    {
     "name": "stderr",
     "output_type": "stream",
     "text": [
      "\n",
      "\u001b[34m\u001b[1mval: \u001b[0mScanning C:\\Users\\devan\\OneDrive - University of Sussex\\SAF_Project\\Instance_seg_labels\\output\\val\\labels... 11 im\u001b[0m"
     ]
    },
    {
     "name": "stdout",
     "output_type": "stream",
     "text": [
      "\u001b[34m\u001b[1mval: \u001b[0mWARNING  C:\\Users\\devan\\OneDrive - University of Sussex\\SAF_Project\\Instance_seg_labels\\output\\val\\images\\ABTCWS002_frame_23.png: 46 duplicate labels removed\n",
      "\u001b[34m\u001b[1mval: \u001b[0mWARNING  C:\\Users\\devan\\OneDrive - University of Sussex\\SAF_Project\\Instance_seg_labels\\output\\val\\images\\ABTCWS002_frame_26.png: 26 duplicate labels removed\n",
      "\u001b[34m\u001b[1mval: \u001b[0mWARNING  C:\\Users\\devan\\OneDrive - University of Sussex\\SAF_Project\\Instance_seg_labels\\output\\val\\images\\ABTCWS004_frame_20.png: 156 duplicate labels removed\n",
      "\u001b[34m\u001b[1mval: \u001b[0mWARNING  C:\\Users\\devan\\OneDrive - University of Sussex\\SAF_Project\\Instance_seg_labels\\output\\val\\images\\ABTCWS004_frame_23.png: 56 duplicate labels removed\n",
      "\u001b[34m\u001b[1mval: \u001b[0mWARNING  C:\\Users\\devan\\OneDrive - University of Sussex\\SAF_Project\\Instance_seg_labels\\output\\val\\images\\ABXCWS002_frame_25.png: 46 duplicate labels removed\n",
      "\u001b[34m\u001b[1mval: \u001b[0mWARNING  C:\\Users\\devan\\OneDrive - University of Sussex\\SAF_Project\\Instance_seg_labels\\output\\val\\images\\BBCCWS001_frame_21.png: 166 duplicate labels removed\n",
      "\u001b[34m\u001b[1mval: \u001b[0mWARNING  C:\\Users\\devan\\OneDrive - University of Sussex\\SAF_Project\\Instance_seg_labels\\output\\val\\images\\FBKAVS001_frame_23.png: 74 duplicate labels removed\n",
      "\u001b[34m\u001b[1mval: \u001b[0mWARNING  C:\\Users\\devan\\OneDrive - University of Sussex\\SAF_Project\\Instance_seg_labels\\output\\val\\images\\JBVDVS002_frame_20.png: 170 duplicate labels removed\n",
      "\u001b[34m\u001b[1mval: \u001b[0mWARNING  C:\\Users\\devan\\OneDrive - University of Sussex\\SAF_Project\\Instance_seg_labels\\output\\val\\images\\SBTCWS003_frame_22.png: 62 duplicate labels removed\n",
      "\u001b[34m\u001b[1mval: \u001b[0mWARNING  C:\\Users\\devan\\OneDrive - University of Sussex\\SAF_Project\\Instance_seg_labels\\output\\val\\images\\SBTCWS003_frame_27.png: 28 duplicate labels removed\n",
      "\u001b[34m\u001b[1mval: \u001b[0mWARNING  C:\\Users\\devan\\OneDrive - University of Sussex\\SAF_Project\\Instance_seg_labels\\output\\val\\images\\SBVCVS002_frame_23.png: 46 duplicate labels removed\n"
     ]
    },
    {
     "name": "stderr",
     "output_type": "stream",
     "text": [
      "\n"
     ]
    },
    {
     "name": "stdout",
     "output_type": "stream",
     "text": [
      "\u001b[34m\u001b[1mval: \u001b[0mNew cache created: C:\\Users\\devan\\OneDrive - University of Sussex\\SAF_Project\\Instance_seg_labels\\output\\val\\labels.cache\n",
      "Plotting labels to runs\\segment\\train21\\labels.jpg... \n",
      "\u001b[34m\u001b[1moptimizer:\u001b[0m 'optimizer=auto' found, ignoring 'lr0=0.01' and 'momentum=0.937' and determining best 'optimizer', 'lr0' and 'momentum' automatically... \n",
      "\u001b[34m\u001b[1moptimizer:\u001b[0m AdamW(lr=0.00125, momentum=0.9) with parameter groups 66 weight(decay=0.0), 77 weight(decay=0.0005), 76 bias(decay=0.0)\n",
      "Image sizes 640 train, 640 val\n",
      "Using 0 dataloader workers\n",
      "Logging results to \u001b[1mruns\\segment\\train21\u001b[0m\n",
      "Starting training for 5 epochs...\n",
      "\n",
      "      Epoch    GPU_mem   box_loss   seg_loss   cls_loss   dfl_loss  Instances       Size\n"
     ]
    },
    {
     "name": "stderr",
     "output_type": "stream",
     "text": [
      "        1/5         0G      2.445      6.375      3.586      2.442        549        640: 100%|██████████| 3/3 [00:37<0\n",
      "                 Class     Images  Instances      Box(P          R      mAP50  mAP50-95)     Mask(P          R      mAP"
     ]
    },
    {
     "name": "stdout",
     "output_type": "stream",
     "text": [
      "                   all         11        438     0.0652      0.441     0.0501     0.0234          0          0          0          0\n"
     ]
    },
    {
     "name": "stderr",
     "output_type": "stream",
     "text": [
      "\n"
     ]
    },
    {
     "name": "stdout",
     "output_type": "stream",
     "text": [
      "\n",
      "      Epoch    GPU_mem   box_loss   seg_loss   cls_loss   dfl_loss  Instances       Size\n"
     ]
    },
    {
     "name": "stderr",
     "output_type": "stream",
     "text": [
      "        2/5         0G      2.371      5.251       3.56      2.346        604        640: 100%|██████████| 3/3 [00:39<0\n",
      "                 Class     Images  Instances      Box(P          R      mAP50  mAP50-95)     Mask(P          R      mAP"
     ]
    },
    {
     "name": "stdout",
     "output_type": "stream",
     "text": [
      "                   all         11        438      0.069       0.49      0.061      0.027          0          0          0          0\n"
     ]
    },
    {
     "name": "stderr",
     "output_type": "stream",
     "text": [
      "\n"
     ]
    },
    {
     "name": "stdout",
     "output_type": "stream",
     "text": [
      "\n",
      "      Epoch    GPU_mem   box_loss   seg_loss   cls_loss   dfl_loss  Instances       Size\n"
     ]
    },
    {
     "name": "stderr",
     "output_type": "stream",
     "text": [
      "        3/5         0G      2.228      3.441      3.517       2.21        330        640: 100%|██████████| 3/3 [00:37<0\n",
      "                 Class     Images  Instances      Box(P          R      mAP50  mAP50-95)     Mask(P          R      mAP"
     ]
    },
    {
     "name": "stdout",
     "output_type": "stream",
     "text": [
      "                   all         11        438      0.067      0.483     0.0833     0.0349          0          0          0          0\n"
     ]
    },
    {
     "name": "stderr",
     "output_type": "stream",
     "text": [
      "\n"
     ]
    },
    {
     "name": "stdout",
     "output_type": "stream",
     "text": [
      "\n",
      "      Epoch    GPU_mem   box_loss   seg_loss   cls_loss   dfl_loss  Instances       Size\n"
     ]
    },
    {
     "name": "stderr",
     "output_type": "stream",
     "text": [
      "        4/5         0G      2.072      2.411      3.428      2.115        371        640: 100%|██████████| 3/3 [00:36<0\n",
      "                 Class     Images  Instances      Box(P          R      mAP50  mAP50-95)     Mask(P          R      mAP"
     ]
    },
    {
     "name": "stdout",
     "output_type": "stream",
     "text": [
      "                   all         11        438     0.0661      0.473       0.12     0.0497          0          0          0          0\n"
     ]
    },
    {
     "name": "stderr",
     "output_type": "stream",
     "text": [
      "\n"
     ]
    },
    {
     "name": "stdout",
     "output_type": "stream",
     "text": [
      "\n",
      "      Epoch    GPU_mem   box_loss   seg_loss   cls_loss   dfl_loss  Instances       Size\n"
     ]
    },
    {
     "name": "stderr",
     "output_type": "stream",
     "text": [
      "        5/5         0G      1.886      2.218      3.381      2.005        583        640: 100%|██████████| 3/3 [00:33<0\n",
      "                 Class     Images  Instances      Box(P          R      mAP50  mAP50-95)     Mask(P          R      mAP"
     ]
    },
    {
     "name": "stdout",
     "output_type": "stream",
     "text": [
      "                   all         11        438     0.0718      0.499      0.165     0.0676          0          0          0          0\n"
     ]
    },
    {
     "name": "stderr",
     "output_type": "stream",
     "text": [
      "\n"
     ]
    },
    {
     "name": "stdout",
     "output_type": "stream",
     "text": [
      "\n",
      "5 epochs completed in 0.059 hours.\n",
      "Optimizer stripped from runs\\segment\\train21\\weights\\last.pt, 6.8MB\n",
      "Optimizer stripped from runs\\segment\\train21\\weights\\best.pt, 6.8MB\n",
      "\n",
      "Validating runs\\segment\\train21\\weights\\best.pt...\n",
      "Ultralytics YOLOv8.2.61  Python-3.12.4 torch-2.3.1+cpu CPU (11th Gen Intel Core(TM) i7-1165G7 2.80GHz)\n",
      "YOLOv8n-seg summary (fused): 195 layers, 3,258,844 parameters, 0 gradients, 12.0 GFLOPs\n"
     ]
    },
    {
     "name": "stderr",
     "output_type": "stream",
     "text": [
      "                 Class     Images  Instances      Box(P          R      mAP50  mAP50-95)     Mask(P          R      mAP\n"
     ]
    },
    {
     "name": "stdout",
     "output_type": "stream",
     "text": [
      "                   all         11        438     0.0715      0.495      0.164      0.067          0          0          0          0\n",
      "  ClassicalEvaporation         11        226     0.0934      0.412      0.194     0.0786          0          0          0          0\n",
      "    TransitionalMixing         11        124     0.0743      0.597      0.164     0.0732          0          0          0          0\n",
      "       DiffusiveMixing          7         88     0.0469      0.477      0.135     0.0492          0          0          0          0\n",
      "Speed: 4.3ms preprocess, 123.9ms inference, 0.0ms loss, 3.7ms postprocess per image\n",
      "Results saved to \u001b[1mruns\\segment\\train21\u001b[0m\n"
     ]
    },
    {
     "data": {
      "text/html": [
       "<style>\n",
       "    table.wandb td:nth-child(1) { padding: 0 10px; text-align: left ; width: auto;} td:nth-child(2) {text-align: left ; width: 100%}\n",
       "    .wandb-row { display: flex; flex-direction: row; flex-wrap: wrap; justify-content: flex-start; width: 100% }\n",
       "    .wandb-col { display: flex; flex-direction: column; flex-basis: 100%; flex: 1; padding: 10px; }\n",
       "    </style>\n",
       "<div class=\"wandb-row\"><div class=\"wandb-col\"><h3>Run history:</h3><br/><table class=\"wandb\"><tr><td>lr/pg0</td><td>▁▆█▇▃</td></tr><tr><td>lr/pg1</td><td>▁▆█▇▃</td></tr><tr><td>lr/pg2</td><td>▁▆█▇▃</td></tr><tr><td>metrics/mAP50(B)</td><td>▁▂▃▅█</td></tr><tr><td>metrics/mAP50(M)</td><td>▁▁▁▁▁</td></tr><tr><td>metrics/mAP50-95(B)</td><td>▁▂▃▅█</td></tr><tr><td>metrics/mAP50-95(M)</td><td>▁▁▁▁▁</td></tr><tr><td>metrics/precision(B)</td><td>▁▅▃▂█</td></tr><tr><td>metrics/precision(M)</td><td>▁▁▁▁▁</td></tr><tr><td>metrics/recall(B)</td><td>▁▇▆▅█</td></tr><tr><td>metrics/recall(M)</td><td>▁▁▁▁▁</td></tr><tr><td>model/GFLOPs</td><td>▁</td></tr><tr><td>model/parameters</td><td>▁</td></tr><tr><td>model/speed_PyTorch(ms)</td><td>▁</td></tr><tr><td>train/box_loss</td><td>█▇▅▃▁</td></tr><tr><td>train/cls_loss</td><td>█▇▆▃▁</td></tr><tr><td>train/dfl_loss</td><td>█▆▄▃▁</td></tr><tr><td>train/seg_loss</td><td>█▆▃▁▁</td></tr><tr><td>val/box_loss</td><td>█▅▃▁▁</td></tr><tr><td>val/cls_loss</td><td>█▃▂▁▁</td></tr><tr><td>val/dfl_loss</td><td>█▅▂▁▁</td></tr><tr><td>val/seg_loss</td><td>█▄▂▁▁</td></tr></table><br/></div><div class=\"wandb-col\"><h3>Run summary:</h3><br/><table class=\"wandb\"><tr><td>lr/pg0</td><td>4e-05</td></tr><tr><td>lr/pg1</td><td>4e-05</td></tr><tr><td>lr/pg2</td><td>4e-05</td></tr><tr><td>metrics/mAP50(B)</td><td>0.16427</td></tr><tr><td>metrics/mAP50(M)</td><td>0.0</td></tr><tr><td>metrics/mAP50-95(B)</td><td>0.06698</td></tr><tr><td>metrics/mAP50-95(M)</td><td>0.0</td></tr><tr><td>metrics/precision(B)</td><td>0.07152</td></tr><tr><td>metrics/precision(M)</td><td>0.0</td></tr><tr><td>metrics/recall(B)</td><td>0.49518</td></tr><tr><td>metrics/recall(M)</td><td>0.0</td></tr><tr><td>model/GFLOPs</td><td>12.113</td></tr><tr><td>model/parameters</td><td>3264396</td></tr><tr><td>model/speed_PyTorch(ms)</td><td>114.033</td></tr><tr><td>train/box_loss</td><td>1.88574</td></tr><tr><td>train/cls_loss</td><td>3.38123</td></tr><tr><td>train/dfl_loss</td><td>2.00548</td></tr><tr><td>train/seg_loss</td><td>2.21809</td></tr><tr><td>val/box_loss</td><td>1.59883</td></tr><tr><td>val/cls_loss</td><td>3.15982</td></tr><tr><td>val/dfl_loss</td><td>1.92458</td></tr><tr><td>val/seg_loss</td><td>0.86331</td></tr></table><br/></div></div>"
      ],
      "text/plain": [
       "<IPython.core.display.HTML object>"
      ]
     },
     "metadata": {},
     "output_type": "display_data"
    },
    {
     "data": {
      "text/html": [
       " View run <strong style=\"color:#cdcd00\">train21</strong> at: <a href='https://wandb.ai/ds678-university-of-sussex/YOLOv8/runs/01t39j7l' target=\"_blank\">https://wandb.ai/ds678-university-of-sussex/YOLOv8/runs/01t39j7l</a><br/> View project at: <a href='https://wandb.ai/ds678-university-of-sussex/YOLOv8' target=\"_blank\">https://wandb.ai/ds678-university-of-sussex/YOLOv8</a><br/>Synced 5 W&B file(s), 25 media file(s), 9 artifact file(s) and 0 other file(s)"
      ],
      "text/plain": [
       "<IPython.core.display.HTML object>"
      ]
     },
     "metadata": {},
     "output_type": "display_data"
    },
    {
     "data": {
      "text/html": [
       "Find logs at: <code>.\\wandb\\run-20240720_225424-01t39j7l\\logs</code>"
      ],
      "text/plain": [
       "<IPython.core.display.HTML object>"
      ]
     },
     "metadata": {},
     "output_type": "display_data"
    },
    {
     "data": {
      "text/html": [
       "The new W&B backend becomes opt-out in version 0.18.0; try it out with `wandb.require(\"core\")`! See https://wandb.me/wandb-core for more information."
      ],
      "text/plain": [
       "<IPython.core.display.HTML object>"
      ]
     },
     "metadata": {},
     "output_type": "display_data"
    }
   ],
   "source": [
    "# Train the model\n",
    "results = model.train(data=\"C:/Users/devan/OneDrive - University of Sussex/SAF_Project/Instance_seg_labels/custom_dataset.yaml\", epochs=5, imgsz=640)"
   ]
  },
  {
   "cell_type": "code",
   "execution_count": 7,
   "id": "042aedd4",
   "metadata": {},
   "outputs": [],
   "source": [
    "# print(results.class_result(0))\n",
    "# print(results.class_result(1))\n",
    "# print(results.class_result(2))\n",
    "# print(results.class_result(3))"
   ]
  },
  {
   "cell_type": "code",
   "execution_count": 8,
   "id": "3e47bd82",
   "metadata": {},
   "outputs": [
    {
     "name": "stdout",
     "output_type": "stream",
     "text": [
      "Class 0 (ClassicalEvaporation): (0.09337349397590361, 0.41150442477876104, 0.19374558982464943, 0.07858559536425513, 0.0, 0.0, 0.0, 0.0)\n",
      "Class 1 (TransitionalMixing): (0.07429718875502007, 0.5967741935483871, 0.16403307904492542, 0.07320384999127037, 0.0, 0.0, 0.0, 0.0)\n",
      "Class 2 (DiffusiveMixing): (0.046875, 0.4772727272727273, 0.13503058467352202, 0.04916365426457621, 0.0, 0.0, 0.0, 0.0)\n",
      "IndexError: index 3 is out of bounds for axis 0 with size 3 for class index 3 (Spray)\n"
     ]
    }
   ],
   "source": [
    "# Assuming 'results' is an instance of a class that has the 'class_result' method\n",
    "class_names = ['ClassicalEvaporation', 'TransitionalMixing', 'DiffusiveMixing', 'Spray']\n",
    "\n",
    "num_classes = len(class_names)\n",
    "\n",
    "for i in range(num_classes):\n",
    "    try:\n",
    "        result = results.class_result(i)\n",
    "        print(f\"Class {i} ({class_names[i]}): {result}\")\n",
    "    except IndexError as e:\n",
    "        print(f\"IndexError: {e} for class index {i} ({class_names[i]})\")\n"
   ]
  },
  {
   "cell_type": "code",
   "execution_count": 9,
   "id": "3b41579f",
   "metadata": {},
   "outputs": [
    {
     "data": {
      "text/html": [
       "Tracking run with wandb version 0.17.5"
      ],
      "text/plain": [
       "<IPython.core.display.HTML object>"
      ]
     },
     "metadata": {},
     "output_type": "display_data"
    },
    {
     "data": {
      "text/html": [
       "Run data is saved locally in <code>C:\\Users\\devan\\OneDrive - University of Sussex\\SAF_Project\\Instance_seg_labels\\wandb\\run-20240720_230001-cnvbucmu</code>"
      ],
      "text/plain": [
       "<IPython.core.display.HTML object>"
      ]
     },
     "metadata": {},
     "output_type": "display_data"
    },
    {
     "data": {
      "text/html": [
       "Syncing run <strong><a href='https://wandb.ai/ds678-university-of-sussex/my-awesome-project/runs/cnvbucmu' target=\"_blank\">sunny-pond-1</a></strong> to <a href='https://wandb.ai/ds678-university-of-sussex/my-awesome-project' target=\"_blank\">Weights & Biases</a> (<a href='https://wandb.me/run' target=\"_blank\">docs</a>)<br/>"
      ],
      "text/plain": [
       "<IPython.core.display.HTML object>"
      ]
     },
     "metadata": {},
     "output_type": "display_data"
    },
    {
     "data": {
      "text/html": [
       " View project at <a href='https://wandb.ai/ds678-university-of-sussex/my-awesome-project' target=\"_blank\">https://wandb.ai/ds678-university-of-sussex/my-awesome-project</a>"
      ],
      "text/plain": [
       "<IPython.core.display.HTML object>"
      ]
     },
     "metadata": {},
     "output_type": "display_data"
    },
    {
     "data": {
      "text/html": [
       " View run at <a href='https://wandb.ai/ds678-university-of-sussex/my-awesome-project/runs/cnvbucmu' target=\"_blank\">https://wandb.ai/ds678-university-of-sussex/my-awesome-project/runs/cnvbucmu</a>"
      ],
      "text/plain": [
       "<IPython.core.display.HTML object>"
      ]
     },
     "metadata": {},
     "output_type": "display_data"
    },
    {
     "data": {
      "text/html": [
       "<style>\n",
       "    table.wandb td:nth-child(1) { padding: 0 10px; text-align: left ; width: auto;} td:nth-child(2) {text-align: left ; width: 100%}\n",
       "    .wandb-row { display: flex; flex-direction: row; flex-wrap: wrap; justify-content: flex-start; width: 100% }\n",
       "    .wandb-col { display: flex; flex-direction: column; flex-basis: 100%; flex: 1; padding: 10px; }\n",
       "    </style>\n",
       "<div class=\"wandb-row\"><div class=\"wandb-col\"><h3>Run history:</h3><br/><table class=\"wandb\"><tr><td>acc</td><td>▁▆▆█████</td></tr><tr><td>loss</td><td>█▇█▅▂▂▃▁</td></tr></table><br/></div><div class=\"wandb-col\"><h3>Run summary:</h3><br/><table class=\"wandb\"><tr><td>acc</td><td>0.88894</td></tr><tr><td>loss</td><td>0.07799</td></tr></table><br/></div></div>"
      ],
      "text/plain": [
       "<IPython.core.display.HTML object>"
      ]
     },
     "metadata": {},
     "output_type": "display_data"
    },
    {
     "data": {
      "text/html": [
       " View run <strong style=\"color:#cdcd00\">sunny-pond-1</strong> at: <a href='https://wandb.ai/ds678-university-of-sussex/my-awesome-project/runs/cnvbucmu' target=\"_blank\">https://wandb.ai/ds678-university-of-sussex/my-awesome-project/runs/cnvbucmu</a><br/> View project at: <a href='https://wandb.ai/ds678-university-of-sussex/my-awesome-project' target=\"_blank\">https://wandb.ai/ds678-university-of-sussex/my-awesome-project</a><br/>Synced 4 W&B file(s), 0 media file(s), 0 artifact file(s) and 0 other file(s)"
      ],
      "text/plain": [
       "<IPython.core.display.HTML object>"
      ]
     },
     "metadata": {},
     "output_type": "display_data"
    },
    {
     "data": {
      "text/html": [
       "Find logs at: <code>.\\wandb\\run-20240720_230001-cnvbucmu\\logs</code>"
      ],
      "text/plain": [
       "<IPython.core.display.HTML object>"
      ]
     },
     "metadata": {},
     "output_type": "display_data"
    },
    {
     "data": {
      "text/html": [
       "The new W&B backend becomes opt-out in version 0.18.0; try it out with `wandb.require(\"core\")`! See https://wandb.me/wandb-core for more information."
      ],
      "text/plain": [
       "<IPython.core.display.HTML object>"
      ]
     },
     "metadata": {},
     "output_type": "display_data"
    }
   ],
   "source": [
    "import wandb\n",
    "import random\n",
    "\n",
    "# start a new wandb run to track this script\n",
    "wandb.init(\n",
    "    # set the wandb project where this run will be logged\n",
    "    project=\"my-awesome-project\",\n",
    "\n",
    "    # track hyperparameters and run metadata\n",
    "    config={\n",
    "    \"learning_rate\": 0.02,\n",
    "    \"architecture\": \"CNN\",\n",
    "    \"dataset\": \"CIFAR-100\",\n",
    "    \"epochs\": 10,\n",
    "    }\n",
    ")\n",
    "\n",
    "# simulate training\n",
    "epochs = 10\n",
    "offset = random.random() / 5\n",
    "for epoch in range(2, epochs):\n",
    "    acc = 1 - 2 ** -epoch - random.random() / epoch - offset\n",
    "    loss = 2 ** -epoch + random.random() / epoch + offset\n",
    "\n",
    "    # log metrics to wandb\n",
    "    wandb.log({\"acc\": acc, \"loss\": loss})\n",
    "\n",
    "# [optional] finish the wandb run, necessary in notebooks\n",
    "wandb.finish()"
   ]
  },
  {
   "cell_type": "code",
   "execution_count": 12,
   "id": "359f0640",
   "metadata": {
    "scrolled": false
   },
   "outputs": [
    {
     "name": "stdout",
     "output_type": "stream",
     "text": [
      "Data converted and split into train and val sets successfully!\n",
      "Ultralytics YOLOv8.2.61  Python-3.12.4 torch-2.3.1+cpu CPU (11th Gen Intel Core(TM) i7-1165G7 2.80GHz)\n",
      "\u001b[34m\u001b[1mengine\\trainer: \u001b[0mtask=segment, mode=train, model=yolov8n-seg.pt, data=C:/Users/devan/OneDrive - University of Sussex/SAF_Project/Instance_seg_labels/custom_dataset.yaml, epochs=5, time=None, patience=100, batch=16, imgsz=640, save=True, save_period=-1, cache=False, device=None, workers=8, project=None, name=train24, exist_ok=False, pretrained=True, optimizer=auto, verbose=True, seed=0, deterministic=True, single_cls=False, rect=False, cos_lr=False, close_mosaic=10, resume=False, amp=True, fraction=1.0, profile=False, freeze=None, multi_scale=False, overlap_mask=True, mask_ratio=4, dropout=0.0, val=True, split=val, save_json=False, save_hybrid=False, conf=None, iou=0.7, max_det=300, half=False, dnn=False, plots=True, source=None, vid_stride=1, stream_buffer=False, visualize=False, augment=False, agnostic_nms=False, classes=None, retina_masks=False, embed=None, show=False, save_frames=False, save_txt=False, save_conf=False, save_crop=False, show_labels=True, show_conf=True, show_boxes=True, line_width=None, format=torchscript, keras=False, optimize=False, int8=False, dynamic=False, simplify=False, opset=None, workspace=4, nms=False, lr0=0.01, lrf=0.01, momentum=0.937, weight_decay=0.0005, warmup_epochs=3.0, warmup_momentum=0.8, warmup_bias_lr=0.1, box=7.5, cls=0.5, dfl=1.5, pose=12.0, kobj=1.0, label_smoothing=0.0, nbs=64, hsv_h=0.015, hsv_s=0.7, hsv_v=0.4, degrees=0.0, translate=0.1, scale=0.5, shear=0.0, perspective=0.0, flipud=0.0, fliplr=0.5, bgr=0.0, mosaic=1.0, mixup=0.0, copy_paste=0.0, auto_augment=randaugment, erasing=0.4, crop_fraction=1.0, cfg=None, tracker=botsort.yaml, save_dir=runs\\segment\\train24\n",
      "Overriding model.yaml nc=80 with nc=4\n",
      "\n",
      "                   from  n    params  module                                       arguments                     \n",
      "  0                  -1  1       464  ultralytics.nn.modules.conv.Conv             [3, 16, 3, 2]                 \n",
      "  1                  -1  1      4672  ultralytics.nn.modules.conv.Conv             [16, 32, 3, 2]                \n",
      "  2                  -1  1      7360  ultralytics.nn.modules.block.C2f             [32, 32, 1, True]             \n",
      "  3                  -1  1     18560  ultralytics.nn.modules.conv.Conv             [32, 64, 3, 2]                \n",
      "  4                  -1  2     49664  ultralytics.nn.modules.block.C2f             [64, 64, 2, True]             \n",
      "  5                  -1  1     73984  ultralytics.nn.modules.conv.Conv             [64, 128, 3, 2]               \n",
      "  6                  -1  2    197632  ultralytics.nn.modules.block.C2f             [128, 128, 2, True]           \n",
      "  7                  -1  1    295424  ultralytics.nn.modules.conv.Conv             [128, 256, 3, 2]              \n",
      "  8                  -1  1    460288  ultralytics.nn.modules.block.C2f             [256, 256, 1, True]           \n",
      "  9                  -1  1    164608  ultralytics.nn.modules.block.SPPF            [256, 256, 5]                 \n",
      " 10                  -1  1         0  torch.nn.modules.upsampling.Upsample         [None, 2, 'nearest']          \n",
      " 11             [-1, 6]  1         0  ultralytics.nn.modules.conv.Concat           [1]                           \n",
      " 12                  -1  1    148224  ultralytics.nn.modules.block.C2f             [384, 128, 1]                 \n",
      " 13                  -1  1         0  torch.nn.modules.upsampling.Upsample         [None, 2, 'nearest']          \n",
      " 14             [-1, 4]  1         0  ultralytics.nn.modules.conv.Concat           [1]                           \n",
      " 15                  -1  1     37248  ultralytics.nn.modules.block.C2f             [192, 64, 1]                  \n",
      " 16                  -1  1     36992  ultralytics.nn.modules.conv.Conv             [64, 64, 3, 2]                \n",
      " 17            [-1, 12]  1         0  ultralytics.nn.modules.conv.Concat           [1]                           \n",
      " 18                  -1  1    123648  ultralytics.nn.modules.block.C2f             [192, 128, 1]                 \n",
      " 19                  -1  1    147712  ultralytics.nn.modules.conv.Conv             [128, 128, 3, 2]              \n",
      " 20             [-1, 9]  1         0  ultralytics.nn.modules.conv.Concat           [1]                           \n",
      " 21                  -1  1    493056  ultralytics.nn.modules.block.C2f             [384, 256, 1]                 \n",
      " 22        [15, 18, 21]  1   1004860  ultralytics.nn.modules.head.Segment          [4, 32, 64, [64, 128, 256]]   \n",
      "YOLOv8n-seg summary: 261 layers, 3,264,396 parameters, 3,264,380 gradients, 12.1 GFLOPs\n",
      "\n",
      "Transferred 381/417 items from pretrained weights\n"
     ]
    },
    {
     "data": {
      "text/html": [
       "Tracking run with wandb version 0.17.5"
      ],
      "text/plain": [
       "<IPython.core.display.HTML object>"
      ]
     },
     "metadata": {},
     "output_type": "display_data"
    },
    {
     "data": {
      "text/html": [
       "Run data is saved locally in <code>C:\\Users\\devan\\OneDrive - University of Sussex\\SAF_Project\\Instance_seg_labels\\wandb\\run-20240721_220517-d76oepr5</code>"
      ],
      "text/plain": [
       "<IPython.core.display.HTML object>"
      ]
     },
     "metadata": {},
     "output_type": "display_data"
    },
    {
     "data": {
      "text/html": [
       "Syncing run <strong><a href='https://wandb.ai/ds678-university-of-sussex/YOLOv8/runs/d76oepr5' target=\"_blank\">train24</a></strong> to <a href='https://wandb.ai/ds678-university-of-sussex/YOLOv8' target=\"_blank\">Weights & Biases</a> (<a href='https://wandb.me/run' target=\"_blank\">docs</a>)<br/>"
      ],
      "text/plain": [
       "<IPython.core.display.HTML object>"
      ]
     },
     "metadata": {},
     "output_type": "display_data"
    },
    {
     "data": {
      "text/html": [
       " View project at <a href='https://wandb.ai/ds678-university-of-sussex/YOLOv8' target=\"_blank\">https://wandb.ai/ds678-university-of-sussex/YOLOv8</a>"
      ],
      "text/plain": [
       "<IPython.core.display.HTML object>"
      ]
     },
     "metadata": {},
     "output_type": "display_data"
    },
    {
     "data": {
      "text/html": [
       " View run at <a href='https://wandb.ai/ds678-university-of-sussex/YOLOv8/runs/d76oepr5' target=\"_blank\">https://wandb.ai/ds678-university-of-sussex/YOLOv8/runs/d76oepr5</a>"
      ],
      "text/plain": [
       "<IPython.core.display.HTML object>"
      ]
     },
     "metadata": {},
     "output_type": "display_data"
    },
    {
     "name": "stdout",
     "output_type": "stream",
     "text": [
      "Freezing layer 'model.22.dfl.conv.weight'\n"
     ]
    },
    {
     "name": "stderr",
     "output_type": "stream",
     "text": [
      "\u001b[34m\u001b[1mtrain: \u001b[0mScanning C:\\Users\\devan\\OneDrive - University of Sussex\\SAF_Project\\Instance_seg_labels\\output\\train\\labels... 4\u001b[0m"
     ]
    },
    {
     "name": "stdout",
     "output_type": "stream",
     "text": [
      "\u001b[34m\u001b[1mtrain: \u001b[0mWARNING  C:\\Users\\devan\\OneDrive - University of Sussex\\SAF_Project\\Instance_seg_labels\\output\\train\\images\\ABCCWS001_frame_13.png: 4 duplicate labels removed\n",
      "\u001b[34m\u001b[1mtrain: \u001b[0mWARNING  C:\\Users\\devan\\OneDrive - University of Sussex\\SAF_Project\\Instance_seg_labels\\output\\train\\images\\ABCCWS001_frame_14.png: 4 duplicate labels removed\n",
      "\u001b[34m\u001b[1mtrain: \u001b[0mWARNING  C:\\Users\\devan\\OneDrive - University of Sussex\\SAF_Project\\Instance_seg_labels\\output\\train\\images\\ABCCWS001_frame_22.png: 204 duplicate labels removed\n",
      "\u001b[34m\u001b[1mtrain: \u001b[0mWARNING  C:\\Users\\devan\\OneDrive - University of Sussex\\SAF_Project\\Instance_seg_labels\\output\\train\\images\\ABCCWS001_frame_23.png: 188 duplicate labels removed\n",
      "\u001b[34m\u001b[1mtrain: \u001b[0mWARNING  C:\\Users\\devan\\OneDrive - University of Sussex\\SAF_Project\\Instance_seg_labels\\output\\train\\images\\ABCCWS001_frame_25.png: 96 duplicate labels removed\n",
      "\u001b[34m\u001b[1mtrain: \u001b[0mWARNING  C:\\Users\\devan\\OneDrive - University of Sussex\\SAF_Project\\Instance_seg_labels\\output\\train\\images\\ABCCWS001_frame_26.png: 64 duplicate labels removed\n",
      "\u001b[34m\u001b[1mtrain: \u001b[0mWARNING  C:\\Users\\devan\\OneDrive - University of Sussex\\SAF_Project\\Instance_seg_labels\\output\\train\\images\\ABCCWS002_frame_21.png: 236 duplicate labels removed\n",
      "\u001b[34m\u001b[1mtrain: \u001b[0mWARNING  C:\\Users\\devan\\OneDrive - University of Sussex\\SAF_Project\\Instance_seg_labels\\output\\train\\images\\ABCCWS002_frame_24.png: 140 duplicate labels removed\n",
      "\u001b[34m\u001b[1mtrain: \u001b[0mWARNING  C:\\Users\\devan\\OneDrive - University of Sussex\\SAF_Project\\Instance_seg_labels\\output\\train\\images\\ABTCWS002_frame_21.png: 180 duplicate labels removed\n",
      "\u001b[34m\u001b[1mtrain: \u001b[0mWARNING  C:\\Users\\devan\\OneDrive - University of Sussex\\SAF_Project\\Instance_seg_labels\\output\\train\\images\\ABTCWS002_frame_24.png: 84 duplicate labels removed\n",
      "\u001b[34m\u001b[1mtrain: \u001b[0mWARNING  C:\\Users\\devan\\OneDrive - University of Sussex\\SAF_Project\\Instance_seg_labels\\output\\train\\images\\ABTCWS002_frame_39.png: 12 duplicate labels removed\n",
      "\u001b[34m\u001b[1mtrain: \u001b[0mWARNING  C:\\Users\\devan\\OneDrive - University of Sussex\\SAF_Project\\Instance_seg_labels\\output\\train\\images\\ABTCWS004_frame_13.png: 4 duplicate labels removed\n",
      "\u001b[34m\u001b[1mtrain: \u001b[0mWARNING  C:\\Users\\devan\\OneDrive - University of Sussex\\SAF_Project\\Instance_seg_labels\\output\\train\\images\\ABTCWS004_frame_21.png: 196 duplicate labels removed\n",
      "\u001b[34m\u001b[1mtrain: \u001b[0mWARNING  C:\\Users\\devan\\OneDrive - University of Sussex\\SAF_Project\\Instance_seg_labels\\output\\train\\images\\ABTCWS004_frame_24.png: 84 duplicate labels removed\n",
      "\u001b[34m\u001b[1mtrain: \u001b[0mWARNING  C:\\Users\\devan\\OneDrive - University of Sussex\\SAF_Project\\Instance_seg_labels\\output\\train\\images\\ABTCWS004_frame_25.png: 60 duplicate labels removed\n",
      "\u001b[34m\u001b[1mtrain: \u001b[0mWARNING  C:\\Users\\devan\\OneDrive - University of Sussex\\SAF_Project\\Instance_seg_labels\\output\\train\\images\\ABTCWS004_frame_28.png: 44 duplicate labels removed\n",
      "\u001b[34m\u001b[1mtrain: \u001b[0mWARNING  C:\\Users\\devan\\OneDrive - University of Sussex\\SAF_Project\\Instance_seg_labels\\output\\train\\images\\ABXCWS002_frame_27.png: 64 duplicate labels removed\n",
      "\u001b[34m\u001b[1mtrain: \u001b[0mWARNING  C:\\Users\\devan\\OneDrive - University of Sussex\\SAF_Project\\Instance_seg_labels\\output\\train\\images\\BBCCWS001_frame_13.png: 4 duplicate labels removed\n",
      "\u001b[34m\u001b[1mtrain: \u001b[0mWARNING  C:\\Users\\devan\\OneDrive - University of Sussex\\SAF_Project\\Instance_seg_labels\\output\\train\\images\\BBCCWS001_frame_14.png: 48 duplicate labels removed\n",
      "\u001b[34m\u001b[1mtrain: \u001b[0mWARNING  C:\\Users\\devan\\OneDrive - University of Sussex\\SAF_Project\\Instance_seg_labels\\output\\train\\images\\BBXCWS003_frame_26.png: 36 duplicate labels removed\n",
      "\u001b[34m\u001b[1mtrain: \u001b[0mWARNING  C:\\Users\\devan\\OneDrive - University of Sussex\\SAF_Project\\Instance_seg_labels\\output\\train\\images\\FBKAVS001_frame_14.png: 4 duplicate labels removed\n",
      "\u001b[34m\u001b[1mtrain: \u001b[0mWARNING  C:\\Users\\devan\\OneDrive - University of Sussex\\SAF_Project\\Instance_seg_labels\\output\\train\\images\\FBKAVS001_frame_21.png: 280 duplicate labels removed\n",
      "\u001b[34m\u001b[1mtrain: \u001b[0mWARNING  C:\\Users\\devan\\OneDrive - University of Sussex\\SAF_Project\\Instance_seg_labels\\output\\train\\images\\FBKAVS001_frame_25.png: 104 duplicate labels removed\n",
      "\u001b[34m\u001b[1mtrain: \u001b[0mWARNING  C:\\Users\\devan\\OneDrive - University of Sussex\\SAF_Project\\Instance_seg_labels\\output\\train\\images\\FBXCWS001_frame_14.png: 4 duplicate labels removed\n",
      "\u001b[34m\u001b[1mtrain: \u001b[0mWARNING  C:\\Users\\devan\\OneDrive - University of Sussex\\SAF_Project\\Instance_seg_labels\\output\\train\\images\\FBXCWS001_frame_20.png: 184 duplicate labels removed\n",
      "\u001b[34m\u001b[1mtrain: \u001b[0mWARNING  C:\\Users\\devan\\OneDrive - University of Sussex\\SAF_Project\\Instance_seg_labels\\output\\train\\images\\FBXCWS001_frame_21.png: 72 duplicate labels removed\n",
      "\u001b[34m\u001b[1mtrain: \u001b[0mWARNING  C:\\Users\\devan\\OneDrive - University of Sussex\\SAF_Project\\Instance_seg_labels\\output\\train\\images\\FBXCWS001_frame_22.png: 44 duplicate labels removed\n",
      "\u001b[34m\u001b[1mtrain: \u001b[0mWARNING  C:\\Users\\devan\\OneDrive - University of Sussex\\SAF_Project\\Instance_seg_labels\\output\\train\\images\\FBXCWS001_frame_24.png: 64 duplicate labels removed\n",
      "\u001b[34m\u001b[1mtrain: \u001b[0mWARNING  C:\\Users\\devan\\OneDrive - University of Sussex\\SAF_Project\\Instance_seg_labels\\output\\train\\images\\FBXCWS001_frame_26.png: 40 duplicate labels removed\n",
      "\u001b[34m\u001b[1mtrain: \u001b[0mWARNING  C:\\Users\\devan\\OneDrive - University of Sussex\\SAF_Project\\Instance_seg_labels\\output\\train\\images\\JBIDVS003_frame_13.png: 4 duplicate labels removed\n",
      "\u001b[34m\u001b[1mtrain: \u001b[0mWARNING  C:\\Users\\devan\\OneDrive - University of Sussex\\SAF_Project\\Instance_seg_labels\\output\\train\\images\\JBIDVS003_frame_20.png: 212 duplicate labels removed\n",
      "\u001b[34m\u001b[1mtrain: \u001b[0mWARNING  C:\\Users\\devan\\OneDrive - University of Sussex\\SAF_Project\\Instance_seg_labels\\output\\train\\images\\JBIDVS003_frame_22.png: 208 duplicate labels removed\n",
      "\u001b[34m\u001b[1mtrain: \u001b[0mWARNING  C:\\Users\\devan\\OneDrive - University of Sussex\\SAF_Project\\Instance_seg_labels\\output\\train\\images\\JBIDVS003_frame_28.png: 60 duplicate labels removed\n",
      "\u001b[34m\u001b[1mtrain: \u001b[0mWARNING  C:\\Users\\devan\\OneDrive - University of Sussex\\SAF_Project\\Instance_seg_labels\\output\\train\\images\\JBKLWS002_frame_13.png: 4 duplicate labels removed\n",
      "\u001b[34m\u001b[1mtrain: \u001b[0mWARNING  C:\\Users\\devan\\OneDrive - University of Sussex\\SAF_Project\\Instance_seg_labels\\output\\train\\images\\JBVDVS002_frame_21.png: 304 duplicate labels removed\n",
      "\u001b[34m\u001b[1mtrain: \u001b[0mWARNING  C:\\Users\\devan\\OneDrive - University of Sussex\\SAF_Project\\Instance_seg_labels\\output\\train\\images\\JBVDVS002_frame_23.png: 180 duplicate labels removed\n",
      "\u001b[34m\u001b[1mtrain: \u001b[0mWARNING  C:\\Users\\devan\\OneDrive - University of Sussex\\SAF_Project\\Instance_seg_labels\\output\\train\\images\\SBTCWS003_frame_21.png: 132 duplicate labels removed\n",
      "\u001b[34m\u001b[1mtrain: \u001b[0mWARNING  C:\\Users\\devan\\OneDrive - University of Sussex\\SAF_Project\\Instance_seg_labels\\output\\train\\images\\SBTCWS003_frame_23.png: 80 duplicate labels removed\n",
      "\u001b[34m\u001b[1mtrain: \u001b[0mWARNING  C:\\Users\\devan\\OneDrive - University of Sussex\\SAF_Project\\Instance_seg_labels\\output\\train\\images\\SBTCWS003_frame_24.png: 92 duplicate labels removed\n",
      "\u001b[34m\u001b[1mtrain: \u001b[0mWARNING  C:\\Users\\devan\\OneDrive - University of Sussex\\SAF_Project\\Instance_seg_labels\\output\\train\\images\\SBTCWS003_frame_26.png: 60 duplicate labels removed\n",
      "\u001b[34m\u001b[1mtrain: \u001b[0mWARNING  C:\\Users\\devan\\OneDrive - University of Sussex\\SAF_Project\\Instance_seg_labels\\output\\train\\images\\SBVCVS002_frame_20.png: 300 duplicate labels removed\n",
      "\u001b[34m\u001b[1mtrain: \u001b[0mWARNING  C:\\Users\\devan\\OneDrive - University of Sussex\\SAF_Project\\Instance_seg_labels\\output\\train\\images\\SBVCVS002_frame_21.png: 160 duplicate labels removed\n",
      "\u001b[34m\u001b[1mtrain: \u001b[0mNew cache created: C:\\Users\\devan\\OneDrive - University of Sussex\\SAF_Project\\Instance_seg_labels\\output\\train\\labels.cache\n"
     ]
    },
    {
     "name": "stderr",
     "output_type": "stream",
     "text": [
      "\n",
      "\u001b[34m\u001b[1mval: \u001b[0mScanning C:\\Users\\devan\\OneDrive - University of Sussex\\SAF_Project\\Instance_seg_labels\\output\\val\\labels... 11 im\u001b[0m"
     ]
    },
    {
     "name": "stdout",
     "output_type": "stream",
     "text": [
      "\u001b[34m\u001b[1mval: \u001b[0mWARNING  C:\\Users\\devan\\OneDrive - University of Sussex\\SAF_Project\\Instance_seg_labels\\output\\val\\images\\ABTCWS002_frame_23.png: 92 duplicate labels removed\n",
      "\u001b[34m\u001b[1mval: \u001b[0mWARNING  C:\\Users\\devan\\OneDrive - University of Sussex\\SAF_Project\\Instance_seg_labels\\output\\val\\images\\ABTCWS002_frame_26.png: 52 duplicate labels removed\n",
      "\u001b[34m\u001b[1mval: \u001b[0mWARNING  C:\\Users\\devan\\OneDrive - University of Sussex\\SAF_Project\\Instance_seg_labels\\output\\val\\images\\ABTCWS004_frame_20.png: 312 duplicate labels removed\n",
      "\u001b[34m\u001b[1mval: \u001b[0mWARNING  C:\\Users\\devan\\OneDrive - University of Sussex\\SAF_Project\\Instance_seg_labels\\output\\val\\images\\ABTCWS004_frame_23.png: 112 duplicate labels removed\n",
      "\u001b[34m\u001b[1mval: \u001b[0mWARNING  C:\\Users\\devan\\OneDrive - University of Sussex\\SAF_Project\\Instance_seg_labels\\output\\val\\images\\ABXCWS002_frame_25.png: 92 duplicate labels removed\n",
      "\u001b[34m\u001b[1mval: \u001b[0mWARNING  C:\\Users\\devan\\OneDrive - University of Sussex\\SAF_Project\\Instance_seg_labels\\output\\val\\images\\BBCCWS001_frame_21.png: 332 duplicate labels removed\n",
      "\u001b[34m\u001b[1mval: \u001b[0mWARNING  C:\\Users\\devan\\OneDrive - University of Sussex\\SAF_Project\\Instance_seg_labels\\output\\val\\images\\FBKAVS001_frame_23.png: 148 duplicate labels removed\n",
      "\u001b[34m\u001b[1mval: \u001b[0mWARNING  C:\\Users\\devan\\OneDrive - University of Sussex\\SAF_Project\\Instance_seg_labels\\output\\val\\images\\JBVDVS002_frame_20.png: 340 duplicate labels removed\n",
      "\u001b[34m\u001b[1mval: \u001b[0mWARNING  C:\\Users\\devan\\OneDrive - University of Sussex\\SAF_Project\\Instance_seg_labels\\output\\val\\images\\SBTCWS003_frame_22.png: 124 duplicate labels removed\n",
      "\u001b[34m\u001b[1mval: \u001b[0mWARNING  C:\\Users\\devan\\OneDrive - University of Sussex\\SAF_Project\\Instance_seg_labels\\output\\val\\images\\SBTCWS003_frame_27.png: 56 duplicate labels removed\n",
      "\u001b[34m\u001b[1mval: \u001b[0mWARNING  C:\\Users\\devan\\OneDrive - University of Sussex\\SAF_Project\\Instance_seg_labels\\output\\val\\images\\SBVCVS002_frame_23.png: 92 duplicate labels removed\n",
      "\u001b[34m\u001b[1mval: \u001b[0mNew cache created: C:\\Users\\devan\\OneDrive - University of Sussex\\SAF_Project\\Instance_seg_labels\\output\\val\\labels.cache\n"
     ]
    },
    {
     "name": "stderr",
     "output_type": "stream",
     "text": [
      "\n"
     ]
    },
    {
     "name": "stdout",
     "output_type": "stream",
     "text": [
      "Plotting labels to runs\\segment\\train24\\labels.jpg... \n",
      "\u001b[34m\u001b[1moptimizer:\u001b[0m 'optimizer=auto' found, ignoring 'lr0=0.01' and 'momentum=0.937' and determining best 'optimizer', 'lr0' and 'momentum' automatically... \n",
      "\u001b[34m\u001b[1moptimizer:\u001b[0m AdamW(lr=0.00125, momentum=0.9) with parameter groups 66 weight(decay=0.0), 77 weight(decay=0.0005), 76 bias(decay=0.0)\n",
      "Image sizes 640 train, 640 val\n",
      "Using 0 dataloader workers\n",
      "Logging results to \u001b[1mruns\\segment\\train24\u001b[0m\n",
      "Starting training for 5 epochs...\n",
      "\n",
      "      Epoch    GPU_mem   box_loss   seg_loss   cls_loss   dfl_loss  Instances       Size\n"
     ]
    },
    {
     "name": "stderr",
     "output_type": "stream",
     "text": [
      "        1/5         0G      2.667      6.211      3.618      2.748        495        640: 100%|██████████| 3/3 [00:29<0\n",
      "                 Class     Images  Instances      Box(P          R      mAP50  mAP50-95)     Mask(P          R      mAP"
     ]
    },
    {
     "name": "stdout",
     "output_type": "stream",
     "text": [
      "                   all         11        438     0.0646      0.409     0.0598     0.0219          0          0          0          0\n"
     ]
    },
    {
     "name": "stderr",
     "output_type": "stream",
     "text": [
      "\n"
     ]
    },
    {
     "name": "stdout",
     "output_type": "stream",
     "text": [
      "\n",
      "      Epoch    GPU_mem   box_loss   seg_loss   cls_loss   dfl_loss  Instances       Size\n"
     ]
    },
    {
     "name": "stderr",
     "output_type": "stream",
     "text": [
      "        2/5         0G       2.66      5.367      3.548      2.748        604        640: 100%|██████████| 3/3 [00:31<0\n",
      "                 Class     Images  Instances      Box(P          R      mAP50  mAP50-95)     Mask(P          R      mAP"
     ]
    },
    {
     "name": "stdout",
     "output_type": "stream",
     "text": [
      "                   all         11        438     0.0683       0.46     0.0697     0.0293          0          0          0          0\n"
     ]
    },
    {
     "name": "stderr",
     "output_type": "stream",
     "text": [
      "\n"
     ]
    },
    {
     "name": "stdout",
     "output_type": "stream",
     "text": [
      "\n",
      "      Epoch    GPU_mem   box_loss   seg_loss   cls_loss   dfl_loss  Instances       Size\n"
     ]
    },
    {
     "name": "stderr",
     "output_type": "stream",
     "text": [
      "        3/5         0G      2.492      4.168      3.572      2.533        518        640: 100%|██████████| 3/3 [00:32<0\n",
      "                 Class     Images  Instances      Box(P          R      mAP50  mAP50-95)     Mask(P          R      mAP"
     ]
    },
    {
     "name": "stdout",
     "output_type": "stream",
     "text": [
      "                   all         11        438     0.0684      0.478       0.09     0.0406          0          0          0          0\n"
     ]
    },
    {
     "name": "stderr",
     "output_type": "stream",
     "text": [
      "\n"
     ]
    },
    {
     "name": "stdout",
     "output_type": "stream",
     "text": [
      "\n",
      "      Epoch    GPU_mem   box_loss   seg_loss   cls_loss   dfl_loss  Instances       Size\n"
     ]
    },
    {
     "name": "stderr",
     "output_type": "stream",
     "text": [
      "        4/5         0G       2.49      3.077       3.54       2.52        587        640: 100%|██████████| 3/3 [00:30<0\n",
      "                 Class     Images  Instances      Box(P          R      mAP50  mAP50-95)     Mask(P          R      mAP"
     ]
    },
    {
     "name": "stdout",
     "output_type": "stream",
     "text": [
      "                   all         11        438     0.0739      0.518      0.134     0.0621          0          0          0          0\n"
     ]
    },
    {
     "name": "stderr",
     "output_type": "stream",
     "text": [
      "\n"
     ]
    },
    {
     "name": "stdout",
     "output_type": "stream",
     "text": [
      "\n",
      "      Epoch    GPU_mem   box_loss   seg_loss   cls_loss   dfl_loss  Instances       Size\n"
     ]
    },
    {
     "name": "stderr",
     "output_type": "stream",
     "text": [
      "        5/5         0G      2.475      2.786      3.581      2.504        625        640: 100%|██████████| 3/3 [00:42<0\n",
      "                 Class     Images  Instances      Box(P          R      mAP50  mAP50-95)     Mask(P          R      mAP"
     ]
    },
    {
     "name": "stdout",
     "output_type": "stream",
     "text": [
      "                   all         11        438     0.0729      0.516      0.157     0.0728          0          0          0          0\n"
     ]
    },
    {
     "name": "stderr",
     "output_type": "stream",
     "text": [
      "\n"
     ]
    },
    {
     "name": "stdout",
     "output_type": "stream",
     "text": [
      "\n",
      "5 epochs completed in 0.053 hours.\n",
      "Optimizer stripped from runs\\segment\\train24\\weights\\last.pt, 6.8MB\n",
      "Optimizer stripped from runs\\segment\\train24\\weights\\best.pt, 6.8MB\n",
      "\n",
      "Validating runs\\segment\\train24\\weights\\best.pt...\n",
      "Ultralytics YOLOv8.2.61  Python-3.12.4 torch-2.3.1+cpu CPU (11th Gen Intel Core(TM) i7-1165G7 2.80GHz)\n",
      "YOLOv8n-seg summary (fused): 195 layers, 3,258,844 parameters, 0 gradients, 12.0 GFLOPs\n"
     ]
    },
    {
     "name": "stderr",
     "output_type": "stream",
     "text": [
      "                 Class     Images  Instances      Box(P          R      mAP50  mAP50-95)     Mask(P          R      mAP\n"
     ]
    },
    {
     "name": "stdout",
     "output_type": "stream",
     "text": [
      "                   all         11        438     0.0738      0.519      0.161     0.0741          0          0          0          0\n",
      "  ClassicalEvaporation         11        226     0.0932      0.434       0.25      0.123          0          0          0          0\n",
      "    TransitionalMixing         11        124     0.0794      0.613      0.161     0.0654          0          0          0          0\n",
      "       DiffusiveMixing          7         88     0.0489      0.511     0.0718      0.034          0          0          0          0\n",
      "Speed: 6.0ms preprocess, 130.2ms inference, 0.0ms loss, 4.0ms postprocess per image\n",
      "Results saved to \u001b[1mruns\\segment\\train24\u001b[0m\n"
     ]
    },
    {
     "data": {
      "text/html": [
       "<style>\n",
       "    table.wandb td:nth-child(1) { padding: 0 10px; text-align: left ; width: auto;} td:nth-child(2) {text-align: left ; width: 100%}\n",
       "    .wandb-row { display: flex; flex-direction: row; flex-wrap: wrap; justify-content: flex-start; width: 100% }\n",
       "    .wandb-col { display: flex; flex-direction: column; flex-basis: 100%; flex: 1; padding: 10px; }\n",
       "    </style>\n",
       "<div class=\"wandb-row\"><div class=\"wandb-col\"><h3>Run history:</h3><br/><table class=\"wandb\"><tr><td>lr/pg0</td><td>▁▆█▇▃</td></tr><tr><td>lr/pg1</td><td>▁▆█▇▃</td></tr><tr><td>lr/pg2</td><td>▁▆█▇▃</td></tr><tr><td>metrics/mAP50(B)</td><td>▁▂▃▆█</td></tr><tr><td>metrics/mAP50(M)</td><td>▁▁▁▁▁</td></tr><tr><td>metrics/mAP50-95(B)</td><td>▁▂▄▆█</td></tr><tr><td>metrics/mAP50-95(M)</td><td>▁▁▁▁▁</td></tr><tr><td>metrics/precision(B)</td><td>▁▄▄██</td></tr><tr><td>metrics/precision(M)</td><td>▁▁▁▁▁</td></tr><tr><td>metrics/recall(B)</td><td>▁▄▅██</td></tr><tr><td>metrics/recall(M)</td><td>▁▁▁▁▁</td></tr><tr><td>model/GFLOPs</td><td>▁</td></tr><tr><td>model/parameters</td><td>▁</td></tr><tr><td>model/speed_PyTorch(ms)</td><td>▁</td></tr><tr><td>train/box_loss</td><td>██▂▂▁</td></tr><tr><td>train/cls_loss</td><td>█▂▄▁▅</td></tr><tr><td>train/dfl_loss</td><td>██▂▁▁</td></tr><tr><td>train/seg_loss</td><td>█▆▄▂▁</td></tr><tr><td>val/box_loss</td><td>█▅▃▁▁</td></tr><tr><td>val/cls_loss</td><td>█▄▂▂▁</td></tr><tr><td>val/dfl_loss</td><td>█▅▃▂▁</td></tr><tr><td>val/seg_loss</td><td>█▅▂▁▁</td></tr></table><br/></div><div class=\"wandb-col\"><h3>Run summary:</h3><br/><table class=\"wandb\"><tr><td>lr/pg0</td><td>4e-05</td></tr><tr><td>lr/pg1</td><td>4e-05</td></tr><tr><td>lr/pg2</td><td>4e-05</td></tr><tr><td>metrics/mAP50(B)</td><td>0.161</td></tr><tr><td>metrics/mAP50(M)</td><td>0.0</td></tr><tr><td>metrics/mAP50-95(B)</td><td>0.07406</td></tr><tr><td>metrics/mAP50-95(M)</td><td>0.0</td></tr><tr><td>metrics/precision(B)</td><td>0.07381</td></tr><tr><td>metrics/precision(M)</td><td>0.0</td></tr><tr><td>metrics/recall(B)</td><td>0.5193</td></tr><tr><td>metrics/recall(M)</td><td>0.0</td></tr><tr><td>model/GFLOPs</td><td>12.113</td></tr><tr><td>model/parameters</td><td>3264396</td></tr><tr><td>model/speed_PyTorch(ms)</td><td>104.818</td></tr><tr><td>train/box_loss</td><td>2.47529</td></tr><tr><td>train/cls_loss</td><td>3.58062</td></tr><tr><td>train/dfl_loss</td><td>2.50441</td></tr><tr><td>train/seg_loss</td><td>2.7858</td></tr><tr><td>val/box_loss</td><td>1.57754</td></tr><tr><td>val/cls_loss</td><td>3.18724</td></tr><tr><td>val/dfl_loss</td><td>2.0197</td></tr><tr><td>val/seg_loss</td><td>1.47705</td></tr></table><br/></div></div>"
      ],
      "text/plain": [
       "<IPython.core.display.HTML object>"
      ]
     },
     "metadata": {},
     "output_type": "display_data"
    },
    {
     "data": {
      "text/html": [
       " View run <strong style=\"color:#cdcd00\">train24</strong> at: <a href='https://wandb.ai/ds678-university-of-sussex/YOLOv8/runs/d76oepr5' target=\"_blank\">https://wandb.ai/ds678-university-of-sussex/YOLOv8/runs/d76oepr5</a><br/> View project at: <a href='https://wandb.ai/ds678-university-of-sussex/YOLOv8' target=\"_blank\">https://wandb.ai/ds678-university-of-sussex/YOLOv8</a><br/>Synced 5 W&B file(s), 25 media file(s), 9 artifact file(s) and 0 other file(s)"
      ],
      "text/plain": [
       "<IPython.core.display.HTML object>"
      ]
     },
     "metadata": {},
     "output_type": "display_data"
    },
    {
     "data": {
      "text/html": [
       "Find logs at: <code>.\\wandb\\run-20240721_220517-d76oepr5\\logs</code>"
      ],
      "text/plain": [
       "<IPython.core.display.HTML object>"
      ]
     },
     "metadata": {},
     "output_type": "display_data"
    },
    {
     "data": {
      "text/html": [
       "The new W&B backend becomes opt-out in version 0.18.0; try it out with `wandb.require(\"core\")`! See https://wandb.me/wandb-core for more information."
      ],
      "text/plain": [
       "<IPython.core.display.HTML object>"
      ]
     },
     "metadata": {},
     "output_type": "display_data"
    },
    {
     "name": "stdout",
     "output_type": "stream",
     "text": [
      "Ultralytics YOLOv8.2.61  Python-3.12.4 torch-2.3.1+cpu CPU (11th Gen Intel Core(TM) i7-1165G7 2.80GHz)\n",
      "\u001b[34m\u001b[1mengine\\trainer: \u001b[0mtask=segment, mode=train, model=yolov8n-seg.pt, data=C:/Users/devan/OneDrive - University of Sussex/SAF_Project/Instance_seg_labels/custom_dataset.yaml, epochs=10, time=None, patience=100, batch=16, imgsz=640, save=True, save_period=-1, cache=False, device=None, workers=8, project=None, name=train25, exist_ok=False, pretrained=True, optimizer=auto, verbose=True, seed=0, deterministic=True, single_cls=False, rect=False, cos_lr=False, close_mosaic=10, resume=False, amp=True, fraction=1.0, profile=False, freeze=None, multi_scale=False, overlap_mask=True, mask_ratio=4, dropout=0.0, val=True, split=val, save_json=False, save_hybrid=False, conf=None, iou=0.7, max_det=300, half=False, dnn=False, plots=True, source=None, vid_stride=1, stream_buffer=False, visualize=False, augment=False, agnostic_nms=False, classes=None, retina_masks=False, embed=None, show=False, save_frames=False, save_txt=False, save_conf=False, save_crop=False, show_labels=True, show_conf=True, show_boxes=True, line_width=None, format=torchscript, keras=False, optimize=False, int8=False, dynamic=False, simplify=False, opset=None, workspace=4, nms=False, lr0=0.01, lrf=0.01, momentum=0.9, weight_decay=0.0005, warmup_epochs=3.0, warmup_momentum=0.8, warmup_bias_lr=0.1, box=7.5, cls=0.5, dfl=1.5, pose=12.0, kobj=1.0, label_smoothing=0.0, nbs=64, hsv_h=0.015, hsv_s=0.7, hsv_v=0.4, degrees=0.0, translate=0.1, scale=0.5, shear=0.0, perspective=0.0, flipud=0.0, fliplr=0.5, bgr=0.0, mosaic=1.0, mixup=0.0, copy_paste=0.0, auto_augment=randaugment, erasing=0.4, crop_fraction=1.0, cfg=None, tracker=botsort.yaml, save_dir=runs\\segment\\train25\n",
      "Overriding model.yaml nc=80 with nc=4\n",
      "\n",
      "                   from  n    params  module                                       arguments                     \n",
      "  0                  -1  1       464  ultralytics.nn.modules.conv.Conv             [3, 16, 3, 2]                 \n",
      "  1                  -1  1      4672  ultralytics.nn.modules.conv.Conv             [16, 32, 3, 2]                \n",
      "  2                  -1  1      7360  ultralytics.nn.modules.block.C2f             [32, 32, 1, True]             \n",
      "  3                  -1  1     18560  ultralytics.nn.modules.conv.Conv             [32, 64, 3, 2]                \n",
      "  4                  -1  2     49664  ultralytics.nn.modules.block.C2f             [64, 64, 2, True]             \n",
      "  5                  -1  1     73984  ultralytics.nn.modules.conv.Conv             [64, 128, 3, 2]               \n",
      "  6                  -1  2    197632  ultralytics.nn.modules.block.C2f             [128, 128, 2, True]           \n",
      "  7                  -1  1    295424  ultralytics.nn.modules.conv.Conv             [128, 256, 3, 2]              \n",
      "  8                  -1  1    460288  ultralytics.nn.modules.block.C2f             [256, 256, 1, True]           \n",
      "  9                  -1  1    164608  ultralytics.nn.modules.block.SPPF            [256, 256, 5]                 \n",
      " 10                  -1  1         0  torch.nn.modules.upsampling.Upsample         [None, 2, 'nearest']          \n",
      " 11             [-1, 6]  1         0  ultralytics.nn.modules.conv.Concat           [1]                           \n",
      " 12                  -1  1    148224  ultralytics.nn.modules.block.C2f             [384, 128, 1]                 \n",
      " 13                  -1  1         0  torch.nn.modules.upsampling.Upsample         [None, 2, 'nearest']          \n",
      " 14             [-1, 4]  1         0  ultralytics.nn.modules.conv.Concat           [1]                           \n",
      " 15                  -1  1     37248  ultralytics.nn.modules.block.C2f             [192, 64, 1]                  \n",
      " 16                  -1  1     36992  ultralytics.nn.modules.conv.Conv             [64, 64, 3, 2]                \n",
      " 17            [-1, 12]  1         0  ultralytics.nn.modules.conv.Concat           [1]                           \n",
      " 18                  -1  1    123648  ultralytics.nn.modules.block.C2f             [192, 128, 1]                 \n",
      " 19                  -1  1    147712  ultralytics.nn.modules.conv.Conv             [128, 128, 3, 2]              \n",
      " 20             [-1, 9]  1         0  ultralytics.nn.modules.conv.Concat           [1]                           \n",
      " 21                  -1  1    493056  ultralytics.nn.modules.block.C2f             [384, 256, 1]                 \n",
      " 22        [15, 18, 21]  1   1004860  ultralytics.nn.modules.head.Segment          [4, 32, 64, [64, 128, 256]]   \n",
      "YOLOv8n-seg summary: 261 layers, 3,264,396 parameters, 3,264,380 gradients, 12.1 GFLOPs\n",
      "\n",
      "Transferred 381/417 items from pretrained weights\n"
     ]
    },
    {
     "data": {
      "text/html": [
       "Tracking run with wandb version 0.17.5"
      ],
      "text/plain": [
       "<IPython.core.display.HTML object>"
      ]
     },
     "metadata": {},
     "output_type": "display_data"
    },
    {
     "data": {
      "text/html": [
       "Run data is saved locally in <code>C:\\Users\\devan\\OneDrive - University of Sussex\\SAF_Project\\Instance_seg_labels\\wandb\\run-20240721_220914-l3wz63ch</code>"
      ],
      "text/plain": [
       "<IPython.core.display.HTML object>"
      ]
     },
     "metadata": {},
     "output_type": "display_data"
    },
    {
     "data": {
      "text/html": [
       "Syncing run <strong><a href='https://wandb.ai/ds678-university-of-sussex/YOLOv8/runs/l3wz63ch' target=\"_blank\">train25</a></strong> to <a href='https://wandb.ai/ds678-university-of-sussex/YOLOv8' target=\"_blank\">Weights & Biases</a> (<a href='https://wandb.me/run' target=\"_blank\">docs</a>)<br/>"
      ],
      "text/plain": [
       "<IPython.core.display.HTML object>"
      ]
     },
     "metadata": {},
     "output_type": "display_data"
    },
    {
     "data": {
      "text/html": [
       " View project at <a href='https://wandb.ai/ds678-university-of-sussex/YOLOv8' target=\"_blank\">https://wandb.ai/ds678-university-of-sussex/YOLOv8</a>"
      ],
      "text/plain": [
       "<IPython.core.display.HTML object>"
      ]
     },
     "metadata": {},
     "output_type": "display_data"
    },
    {
     "data": {
      "text/html": [
       " View run at <a href='https://wandb.ai/ds678-university-of-sussex/YOLOv8/runs/l3wz63ch' target=\"_blank\">https://wandb.ai/ds678-university-of-sussex/YOLOv8/runs/l3wz63ch</a>"
      ],
      "text/plain": [
       "<IPython.core.display.HTML object>"
      ]
     },
     "metadata": {},
     "output_type": "display_data"
    },
    {
     "name": "stdout",
     "output_type": "stream",
     "text": [
      "Freezing layer 'model.22.dfl.conv.weight'\n"
     ]
    },
    {
     "name": "stderr",
     "output_type": "stream",
     "text": [
      "\u001b[34m\u001b[1mtrain: \u001b[0mScanning C:\\Users\\devan\\OneDrive - University of Sussex\\SAF_Project\\Instance_seg_labels\\output\\train\\labels.cach\u001b[0m"
     ]
    },
    {
     "name": "stdout",
     "output_type": "stream",
     "text": [
      "\u001b[34m\u001b[1mtrain: \u001b[0mWARNING  C:\\Users\\devan\\OneDrive - University of Sussex\\SAF_Project\\Instance_seg_labels\\output\\train\\images\\ABCCWS001_frame_13.png: 4 duplicate labels removed\n",
      "\u001b[34m\u001b[1mtrain: \u001b[0mWARNING  C:\\Users\\devan\\OneDrive - University of Sussex\\SAF_Project\\Instance_seg_labels\\output\\train\\images\\ABCCWS001_frame_14.png: 4 duplicate labels removed\n",
      "\u001b[34m\u001b[1mtrain: \u001b[0mWARNING  C:\\Users\\devan\\OneDrive - University of Sussex\\SAF_Project\\Instance_seg_labels\\output\\train\\images\\ABCCWS001_frame_22.png: 204 duplicate labels removed\n",
      "\u001b[34m\u001b[1mtrain: \u001b[0mWARNING  C:\\Users\\devan\\OneDrive - University of Sussex\\SAF_Project\\Instance_seg_labels\\output\\train\\images\\ABCCWS001_frame_23.png: 188 duplicate labels removed\n",
      "\u001b[34m\u001b[1mtrain: \u001b[0mWARNING  C:\\Users\\devan\\OneDrive - University of Sussex\\SAF_Project\\Instance_seg_labels\\output\\train\\images\\ABCCWS001_frame_25.png: 96 duplicate labels removed\n",
      "\u001b[34m\u001b[1mtrain: \u001b[0mWARNING  C:\\Users\\devan\\OneDrive - University of Sussex\\SAF_Project\\Instance_seg_labels\\output\\train\\images\\ABCCWS001_frame_26.png: 64 duplicate labels removed\n",
      "\u001b[34m\u001b[1mtrain: \u001b[0mWARNING  C:\\Users\\devan\\OneDrive - University of Sussex\\SAF_Project\\Instance_seg_labels\\output\\train\\images\\ABCCWS002_frame_21.png: 236 duplicate labels removed\n",
      "\u001b[34m\u001b[1mtrain: \u001b[0mWARNING  C:\\Users\\devan\\OneDrive - University of Sussex\\SAF_Project\\Instance_seg_labels\\output\\train\\images\\ABCCWS002_frame_24.png: 140 duplicate labels removed\n",
      "\u001b[34m\u001b[1mtrain: \u001b[0mWARNING  C:\\Users\\devan\\OneDrive - University of Sussex\\SAF_Project\\Instance_seg_labels\\output\\train\\images\\ABTCWS002_frame_21.png: 180 duplicate labels removed\n",
      "\u001b[34m\u001b[1mtrain: \u001b[0mWARNING  C:\\Users\\devan\\OneDrive - University of Sussex\\SAF_Project\\Instance_seg_labels\\output\\train\\images\\ABTCWS002_frame_24.png: 84 duplicate labels removed\n",
      "\u001b[34m\u001b[1mtrain: \u001b[0mWARNING  C:\\Users\\devan\\OneDrive - University of Sussex\\SAF_Project\\Instance_seg_labels\\output\\train\\images\\ABTCWS002_frame_39.png: 12 duplicate labels removed\n",
      "\u001b[34m\u001b[1mtrain: \u001b[0mWARNING  C:\\Users\\devan\\OneDrive - University of Sussex\\SAF_Project\\Instance_seg_labels\\output\\train\\images\\ABTCWS004_frame_13.png: 4 duplicate labels removed\n",
      "\u001b[34m\u001b[1mtrain: \u001b[0mWARNING  C:\\Users\\devan\\OneDrive - University of Sussex\\SAF_Project\\Instance_seg_labels\\output\\train\\images\\ABTCWS004_frame_21.png: 196 duplicate labels removed\n",
      "\u001b[34m\u001b[1mtrain: \u001b[0mWARNING  C:\\Users\\devan\\OneDrive - University of Sussex\\SAF_Project\\Instance_seg_labels\\output\\train\\images\\ABTCWS004_frame_24.png: 84 duplicate labels removed\n",
      "\u001b[34m\u001b[1mtrain: \u001b[0mWARNING  C:\\Users\\devan\\OneDrive - University of Sussex\\SAF_Project\\Instance_seg_labels\\output\\train\\images\\ABTCWS004_frame_25.png: 60 duplicate labels removed\n",
      "\u001b[34m\u001b[1mtrain: \u001b[0mWARNING  C:\\Users\\devan\\OneDrive - University of Sussex\\SAF_Project\\Instance_seg_labels\\output\\train\\images\\ABTCWS004_frame_28.png: 44 duplicate labels removed\n",
      "\u001b[34m\u001b[1mtrain: \u001b[0mWARNING  C:\\Users\\devan\\OneDrive - University of Sussex\\SAF_Project\\Instance_seg_labels\\output\\train\\images\\ABXCWS002_frame_27.png: 64 duplicate labels removed\n",
      "\u001b[34m\u001b[1mtrain: \u001b[0mWARNING  C:\\Users\\devan\\OneDrive - University of Sussex\\SAF_Project\\Instance_seg_labels\\output\\train\\images\\BBCCWS001_frame_13.png: 4 duplicate labels removed\n",
      "\u001b[34m\u001b[1mtrain: \u001b[0mWARNING  C:\\Users\\devan\\OneDrive - University of Sussex\\SAF_Project\\Instance_seg_labels\\output\\train\\images\\BBCCWS001_frame_14.png: 48 duplicate labels removed\n",
      "\u001b[34m\u001b[1mtrain: \u001b[0mWARNING  C:\\Users\\devan\\OneDrive - University of Sussex\\SAF_Project\\Instance_seg_labels\\output\\train\\images\\BBXCWS003_frame_26.png: 36 duplicate labels removed\n",
      "\u001b[34m\u001b[1mtrain: \u001b[0mWARNING  C:\\Users\\devan\\OneDrive - University of Sussex\\SAF_Project\\Instance_seg_labels\\output\\train\\images\\FBKAVS001_frame_14.png: 4 duplicate labels removed\n",
      "\u001b[34m\u001b[1mtrain: \u001b[0mWARNING  C:\\Users\\devan\\OneDrive - University of Sussex\\SAF_Project\\Instance_seg_labels\\output\\train\\images\\FBKAVS001_frame_21.png: 280 duplicate labels removed\n",
      "\u001b[34m\u001b[1mtrain: \u001b[0mWARNING  C:\\Users\\devan\\OneDrive - University of Sussex\\SAF_Project\\Instance_seg_labels\\output\\train\\images\\FBKAVS001_frame_25.png: 104 duplicate labels removed\n",
      "\u001b[34m\u001b[1mtrain: \u001b[0mWARNING  C:\\Users\\devan\\OneDrive - University of Sussex\\SAF_Project\\Instance_seg_labels\\output\\train\\images\\FBXCWS001_frame_14.png: 4 duplicate labels removed\n",
      "\u001b[34m\u001b[1mtrain: \u001b[0mWARNING  C:\\Users\\devan\\OneDrive - University of Sussex\\SAF_Project\\Instance_seg_labels\\output\\train\\images\\FBXCWS001_frame_20.png: 184 duplicate labels removed\n",
      "\u001b[34m\u001b[1mtrain: \u001b[0mWARNING  C:\\Users\\devan\\OneDrive - University of Sussex\\SAF_Project\\Instance_seg_labels\\output\\train\\images\\FBXCWS001_frame_21.png: 72 duplicate labels removed\n",
      "\u001b[34m\u001b[1mtrain: \u001b[0mWARNING  C:\\Users\\devan\\OneDrive - University of Sussex\\SAF_Project\\Instance_seg_labels\\output\\train\\images\\FBXCWS001_frame_22.png: 44 duplicate labels removed\n",
      "\u001b[34m\u001b[1mtrain: \u001b[0mWARNING  C:\\Users\\devan\\OneDrive - University of Sussex\\SAF_Project\\Instance_seg_labels\\output\\train\\images\\FBXCWS001_frame_24.png: 64 duplicate labels removed\n",
      "\u001b[34m\u001b[1mtrain: \u001b[0mWARNING  C:\\Users\\devan\\OneDrive - University of Sussex\\SAF_Project\\Instance_seg_labels\\output\\train\\images\\FBXCWS001_frame_26.png: 40 duplicate labels removed\n",
      "\u001b[34m\u001b[1mtrain: \u001b[0mWARNING  C:\\Users\\devan\\OneDrive - University of Sussex\\SAF_Project\\Instance_seg_labels\\output\\train\\images\\JBIDVS003_frame_13.png: 4 duplicate labels removed\n",
      "\u001b[34m\u001b[1mtrain: \u001b[0mWARNING  C:\\Users\\devan\\OneDrive - University of Sussex\\SAF_Project\\Instance_seg_labels\\output\\train\\images\\JBIDVS003_frame_20.png: 212 duplicate labels removed\n",
      "\u001b[34m\u001b[1mtrain: \u001b[0mWARNING  C:\\Users\\devan\\OneDrive - University of Sussex\\SAF_Project\\Instance_seg_labels\\output\\train\\images\\JBIDVS003_frame_22.png: 208 duplicate labels removed\n",
      "\u001b[34m\u001b[1mtrain: \u001b[0mWARNING  C:\\Users\\devan\\OneDrive - University of Sussex\\SAF_Project\\Instance_seg_labels\\output\\train\\images\\JBIDVS003_frame_28.png: 60 duplicate labels removed\n",
      "\u001b[34m\u001b[1mtrain: \u001b[0mWARNING  C:\\Users\\devan\\OneDrive - University of Sussex\\SAF_Project\\Instance_seg_labels\\output\\train\\images\\JBKLWS002_frame_13.png: 4 duplicate labels removed\n",
      "\u001b[34m\u001b[1mtrain: \u001b[0mWARNING  C:\\Users\\devan\\OneDrive - University of Sussex\\SAF_Project\\Instance_seg_labels\\output\\train\\images\\JBVDVS002_frame_21.png: 304 duplicate labels removed\n",
      "\u001b[34m\u001b[1mtrain: \u001b[0mWARNING  C:\\Users\\devan\\OneDrive - University of Sussex\\SAF_Project\\Instance_seg_labels\\output\\train\\images\\JBVDVS002_frame_23.png: 180 duplicate labels removed\n",
      "\u001b[34m\u001b[1mtrain: \u001b[0mWARNING  C:\\Users\\devan\\OneDrive - University of Sussex\\SAF_Project\\Instance_seg_labels\\output\\train\\images\\SBTCWS003_frame_21.png: 132 duplicate labels removed\n",
      "\u001b[34m\u001b[1mtrain: \u001b[0mWARNING  C:\\Users\\devan\\OneDrive - University of Sussex\\SAF_Project\\Instance_seg_labels\\output\\train\\images\\SBTCWS003_frame_23.png: 80 duplicate labels removed\n",
      "\u001b[34m\u001b[1mtrain: \u001b[0mWARNING  C:\\Users\\devan\\OneDrive - University of Sussex\\SAF_Project\\Instance_seg_labels\\output\\train\\images\\SBTCWS003_frame_24.png: 92 duplicate labels removed\n",
      "\u001b[34m\u001b[1mtrain: \u001b[0mWARNING  C:\\Users\\devan\\OneDrive - University of Sussex\\SAF_Project\\Instance_seg_labels\\output\\train\\images\\SBTCWS003_frame_26.png: 60 duplicate labels removed\n",
      "\u001b[34m\u001b[1mtrain: \u001b[0mWARNING  C:\\Users\\devan\\OneDrive - University of Sussex\\SAF_Project\\Instance_seg_labels\\output\\train\\images\\SBVCVS002_frame_20.png: 300 duplicate labels removed\n",
      "\u001b[34m\u001b[1mtrain: \u001b[0mWARNING  C:\\Users\\devan\\OneDrive - University of Sussex\\SAF_Project\\Instance_seg_labels\\output\\train\\images\\SBVCVS002_frame_21.png: 160 duplicate labels removed\n"
     ]
    },
    {
     "name": "stderr",
     "output_type": "stream",
     "text": [
      "\n",
      "\u001b[34m\u001b[1mval: \u001b[0mScanning C:\\Users\\devan\\OneDrive - University of Sussex\\SAF_Project\\Instance_seg_labels\\output\\val\\labels.cache...\u001b[0m"
     ]
    },
    {
     "name": "stdout",
     "output_type": "stream",
     "text": [
      "\u001b[34m\u001b[1mval: \u001b[0mWARNING  C:\\Users\\devan\\OneDrive - University of Sussex\\SAF_Project\\Instance_seg_labels\\output\\val\\images\\ABTCWS002_frame_23.png: 92 duplicate labels removed\n",
      "\u001b[34m\u001b[1mval: \u001b[0mWARNING  C:\\Users\\devan\\OneDrive - University of Sussex\\SAF_Project\\Instance_seg_labels\\output\\val\\images\\ABTCWS002_frame_26.png: 52 duplicate labels removed\n",
      "\u001b[34m\u001b[1mval: \u001b[0mWARNING  C:\\Users\\devan\\OneDrive - University of Sussex\\SAF_Project\\Instance_seg_labels\\output\\val\\images\\ABTCWS004_frame_20.png: 312 duplicate labels removed\n",
      "\u001b[34m\u001b[1mval: \u001b[0mWARNING  C:\\Users\\devan\\OneDrive - University of Sussex\\SAF_Project\\Instance_seg_labels\\output\\val\\images\\ABTCWS004_frame_23.png: 112 duplicate labels removed\n",
      "\u001b[34m\u001b[1mval: \u001b[0mWARNING  C:\\Users\\devan\\OneDrive - University of Sussex\\SAF_Project\\Instance_seg_labels\\output\\val\\images\\ABXCWS002_frame_25.png: 92 duplicate labels removed\n",
      "\u001b[34m\u001b[1mval: \u001b[0mWARNING  C:\\Users\\devan\\OneDrive - University of Sussex\\SAF_Project\\Instance_seg_labels\\output\\val\\images\\BBCCWS001_frame_21.png: 332 duplicate labels removed\n",
      "\u001b[34m\u001b[1mval: \u001b[0mWARNING  C:\\Users\\devan\\OneDrive - University of Sussex\\SAF_Project\\Instance_seg_labels\\output\\val\\images\\FBKAVS001_frame_23.png: 148 duplicate labels removed\n",
      "\u001b[34m\u001b[1mval: \u001b[0mWARNING  C:\\Users\\devan\\OneDrive - University of Sussex\\SAF_Project\\Instance_seg_labels\\output\\val\\images\\JBVDVS002_frame_20.png: 340 duplicate labels removed\n",
      "\u001b[34m\u001b[1mval: \u001b[0mWARNING  C:\\Users\\devan\\OneDrive - University of Sussex\\SAF_Project\\Instance_seg_labels\\output\\val\\images\\SBTCWS003_frame_22.png: 124 duplicate labels removed\n",
      "\u001b[34m\u001b[1mval: \u001b[0mWARNING  C:\\Users\\devan\\OneDrive - University of Sussex\\SAF_Project\\Instance_seg_labels\\output\\val\\images\\SBTCWS003_frame_27.png: 56 duplicate labels removed\n",
      "\u001b[34m\u001b[1mval: \u001b[0mWARNING  C:\\Users\\devan\\OneDrive - University of Sussex\\SAF_Project\\Instance_seg_labels\\output\\val\\images\\SBVCVS002_frame_23.png: 92 duplicate labels removed\n",
      "Plotting labels to runs\\segment\\train25\\labels.jpg... \n"
     ]
    },
    {
     "name": "stderr",
     "output_type": "stream",
     "text": [
      "\n"
     ]
    },
    {
     "name": "stdout",
     "output_type": "stream",
     "text": [
      "\u001b[34m\u001b[1moptimizer:\u001b[0m 'optimizer=auto' found, ignoring 'lr0=0.01' and 'momentum=0.9' and determining best 'optimizer', 'lr0' and 'momentum' automatically... \n",
      "\u001b[34m\u001b[1moptimizer:\u001b[0m AdamW(lr=0.00125, momentum=0.9) with parameter groups 66 weight(decay=0.0), 77 weight(decay=0.0005), 76 bias(decay=0.0)\n",
      "Image sizes 640 train, 640 val\n",
      "Using 0 dataloader workers\n",
      "Logging results to \u001b[1mruns\\segment\\train25\u001b[0m\n",
      "Starting training for 10 epochs...\n",
      "Closing dataloader mosaic\n",
      "\n",
      "      Epoch    GPU_mem   box_loss   seg_loss   cls_loss   dfl_loss  Instances       Size\n"
     ]
    },
    {
     "name": "stderr",
     "output_type": "stream",
     "text": [
      "       1/10         0G      2.534      6.423       3.52      2.901        345        640: 100%|██████████| 3/3 [00:30<0\n",
      "                 Class     Images  Instances      Box(P          R      mAP50  mAP50-95)     Mask(P          R      mAP"
     ]
    },
    {
     "name": "stdout",
     "output_type": "stream",
     "text": [
      "                   all         11        438     0.0634       0.42     0.0592     0.0209          0          0          0          0\n"
     ]
    },
    {
     "name": "stderr",
     "output_type": "stream",
     "text": [
      "\n"
     ]
    },
    {
     "name": "stdout",
     "output_type": "stream",
     "text": [
      "\n",
      "      Epoch    GPU_mem   box_loss   seg_loss   cls_loss   dfl_loss  Instances       Size\n"
     ]
    },
    {
     "name": "stderr",
     "output_type": "stream",
     "text": [
      "       2/10         0G      2.471      4.474      3.495      2.754        309        640: 100%|██████████| 3/3 [00:23<0\n",
      "                 Class     Images  Instances      Box(P          R      mAP50  mAP50-95)     Mask(P          R      mAP"
     ]
    },
    {
     "name": "stdout",
     "output_type": "stream",
     "text": [
      "                   all         11        438     0.0677      0.469      0.075     0.0317          0          0          0          0\n"
     ]
    },
    {
     "name": "stderr",
     "output_type": "stream",
     "text": [
      "\n"
     ]
    },
    {
     "name": "stdout",
     "output_type": "stream",
     "text": [
      "\n",
      "      Epoch    GPU_mem   box_loss   seg_loss   cls_loss   dfl_loss  Instances       Size\n"
     ]
    },
    {
     "name": "stderr",
     "output_type": "stream",
     "text": [
      "       3/10         0G      2.242      3.387      3.364      2.612        342        640: 100%|██████████| 3/3 [00:28<0\n",
      "                 Class     Images  Instances      Box(P          R      mAP50  mAP50-95)     Mask(P          R      mAP"
     ]
    },
    {
     "name": "stdout",
     "output_type": "stream",
     "text": [
      "                   all         11        438     0.0726      0.505      0.116     0.0548          0          0          0          0\n"
     ]
    },
    {
     "name": "stderr",
     "output_type": "stream",
     "text": [
      "\n"
     ]
    },
    {
     "name": "stdout",
     "output_type": "stream",
     "text": [
      "\n",
      "      Epoch    GPU_mem   box_loss   seg_loss   cls_loss   dfl_loss  Instances       Size\n"
     ]
    },
    {
     "name": "stderr",
     "output_type": "stream",
     "text": [
      "       4/10         0G      2.104      1.933      3.311      2.415        272        640: 100%|██████████| 3/3 [00:30<0\n",
      "                 Class     Images  Instances      Box(P          R      mAP50  mAP50-95)     Mask(P          R      mAP"
     ]
    },
    {
     "name": "stdout",
     "output_type": "stream",
     "text": [
      "                   all         11        438     0.0751      0.502       0.18     0.0896          0          0          0          0\n"
     ]
    },
    {
     "name": "stderr",
     "output_type": "stream",
     "text": [
      "\n"
     ]
    },
    {
     "name": "stdout",
     "output_type": "stream",
     "text": [
      "\n",
      "      Epoch    GPU_mem   box_loss   seg_loss   cls_loss   dfl_loss  Instances       Size\n"
     ]
    },
    {
     "name": "stderr",
     "output_type": "stream",
     "text": [
      "       5/10         0G      1.765      1.419      3.162      2.193        249        640: 100%|██████████| 3/3 [00:31<0\n",
      "                 Class     Images  Instances      Box(P          R      mAP50  mAP50-95)     Mask(P          R      mAP"
     ]
    },
    {
     "name": "stdout",
     "output_type": "stream",
     "text": [
      "                   all         11        438     0.0825      0.544      0.181     0.0952          0          0          0          0\n"
     ]
    },
    {
     "name": "stderr",
     "output_type": "stream",
     "text": [
      "\n"
     ]
    },
    {
     "name": "stdout",
     "output_type": "stream",
     "text": [
      "\n",
      "      Epoch    GPU_mem   box_loss   seg_loss   cls_loss   dfl_loss  Instances       Size\n"
     ]
    },
    {
     "name": "stderr",
     "output_type": "stream",
     "text": [
      "       6/10         0G      1.574       1.06      2.969      2.058        321        640: 100%|██████████| 3/3 [00:29<0\n",
      "                 Class     Images  Instances      Box(P          R      mAP50  mAP50-95)     Mask(P          R      mAP"
     ]
    },
    {
     "name": "stdout",
     "output_type": "stream",
     "text": [
      "                   all         11        438     0.0829      0.519       0.18      0.094          0          0          0          0\n"
     ]
    },
    {
     "name": "stderr",
     "output_type": "stream",
     "text": [
      "\n"
     ]
    },
    {
     "name": "stdout",
     "output_type": "stream",
     "text": [
      "\n",
      "      Epoch    GPU_mem   box_loss   seg_loss   cls_loss   dfl_loss  Instances       Size\n"
     ]
    },
    {
     "name": "stderr",
     "output_type": "stream",
     "text": [
      "       7/10         0G      1.578      1.106      2.958      2.073        222        640: 100%|██████████| 3/3 [00:32<0\n",
      "                 Class     Images  Instances      Box(P          R      mAP50  mAP50-95)     Mask(P          R      mAP"
     ]
    },
    {
     "name": "stdout",
     "output_type": "stream",
     "text": [
      "                   all         11        438     0.0837      0.505      0.184     0.0994          0          0          0          0\n"
     ]
    },
    {
     "name": "stderr",
     "output_type": "stream",
     "text": [
      "\n"
     ]
    },
    {
     "name": "stdout",
     "output_type": "stream",
     "text": [
      "\n",
      "      Epoch    GPU_mem   box_loss   seg_loss   cls_loss   dfl_loss  Instances       Size\n"
     ]
    },
    {
     "name": "stderr",
     "output_type": "stream",
     "text": [
      "       8/10         0G      1.457     0.9666      2.882       1.98        301        640: 100%|██████████| 3/3 [00:30<0\n",
      "                 Class     Images  Instances      Box(P          R      mAP50  mAP50-95)     Mask(P          R      mAP"
     ]
    },
    {
     "name": "stdout",
     "output_type": "stream",
     "text": [
      "                   all         11        438     0.0857      0.504       0.19      0.101          0          0          0          0\n"
     ]
    },
    {
     "name": "stderr",
     "output_type": "stream",
     "text": [
      "\n"
     ]
    },
    {
     "name": "stdout",
     "output_type": "stream",
     "text": [
      "\n",
      "      Epoch    GPU_mem   box_loss   seg_loss   cls_loss   dfl_loss  Instances       Size\n"
     ]
    },
    {
     "name": "stderr",
     "output_type": "stream",
     "text": [
      "       9/10         0G      1.396     0.9336      2.835      1.928        332        640: 100%|██████████| 3/3 [00:32<0\n",
      "                 Class     Images  Instances      Box(P          R      mAP50  mAP50-95)     Mask(P          R      mAP"
     ]
    },
    {
     "name": "stdout",
     "output_type": "stream",
     "text": [
      "                   all         11        438     0.0875      0.506      0.189      0.102          0          0          0          0\n"
     ]
    },
    {
     "name": "stderr",
     "output_type": "stream",
     "text": [
      "\n"
     ]
    },
    {
     "name": "stdout",
     "output_type": "stream",
     "text": [
      "\n",
      "      Epoch    GPU_mem   box_loss   seg_loss   cls_loss   dfl_loss  Instances       Size\n"
     ]
    },
    {
     "name": "stderr",
     "output_type": "stream",
     "text": [
      "      10/10         0G      1.377     0.9089       2.75      1.913        225        640: 100%|██████████| 3/3 [00:34<0\n",
      "                 Class     Images  Instances      Box(P          R      mAP50  mAP50-95)     Mask(P          R      mAP"
     ]
    },
    {
     "name": "stdout",
     "output_type": "stream",
     "text": [
      "                   all         11        438     0.0897      0.517      0.192      0.103          0          0          0          0\n"
     ]
    },
    {
     "name": "stderr",
     "output_type": "stream",
     "text": [
      "\n"
     ]
    },
    {
     "name": "stdout",
     "output_type": "stream",
     "text": [
      "\n",
      "10 epochs completed in 0.098 hours.\n",
      "Optimizer stripped from runs\\segment\\train25\\weights\\last.pt, 6.8MB\n",
      "Optimizer stripped from runs\\segment\\train25\\weights\\best.pt, 6.8MB\n",
      "\n",
      "Validating runs\\segment\\train25\\weights\\best.pt...\n",
      "Ultralytics YOLOv8.2.61  Python-3.12.4 torch-2.3.1+cpu CPU (11th Gen Intel Core(TM) i7-1165G7 2.80GHz)\n",
      "YOLOv8n-seg summary (fused): 195 layers, 3,258,844 parameters, 0 gradients, 12.0 GFLOPs\n"
     ]
    },
    {
     "name": "stderr",
     "output_type": "stream",
     "text": [
      "                 Class     Images  Instances      Box(P          R      mAP50  mAP50-95)     Mask(P          R      mAP\n"
     ]
    },
    {
     "name": "stdout",
     "output_type": "stream",
     "text": [
      "                   all         11        438     0.0897      0.517      0.191      0.103          0          0          0          0\n",
      "  ClassicalEvaporation         11        226      0.112      0.398      0.195      0.108          0          0          0          0\n",
      "    TransitionalMixing         11        124      0.101      0.629      0.283      0.146          0          0          0          0\n",
      "       DiffusiveMixing          7         88     0.0562      0.523     0.0961     0.0544          0          0          0          0\n",
      "Speed: 4.7ms preprocess, 116.7ms inference, 0.0ms loss, 3.6ms postprocess per image\n",
      "Results saved to \u001b[1mruns\\segment\\train25\u001b[0m\n"
     ]
    },
    {
     "data": {
      "text/html": [
       "<style>\n",
       "    table.wandb td:nth-child(1) { padding: 0 10px; text-align: left ; width: auto;} td:nth-child(2) {text-align: left ; width: 100%}\n",
       "    .wandb-row { display: flex; flex-direction: row; flex-wrap: wrap; justify-content: flex-start; width: 100% }\n",
       "    .wandb-col { display: flex; flex-direction: column; flex-basis: 100%; flex: 1; padding: 10px; }\n",
       "    </style>\n",
       "<div class=\"wandb-row\"><div class=\"wandb-col\"><h3>Run history:</h3><br/><table class=\"wandb\"><tr><td>lr/pg0</td><td>▁▄▆▇███▆▅▂</td></tr><tr><td>lr/pg1</td><td>▁▄▆▇███▆▅▂</td></tr><tr><td>lr/pg2</td><td>▁▄▆▇███▆▅▂</td></tr><tr><td>metrics/mAP50(B)</td><td>▁▂▄▇▇▇████</td></tr><tr><td>metrics/mAP50(M)</td><td>▁▁▁▁▁▁▁▁▁▁</td></tr><tr><td>metrics/mAP50-95(B)</td><td>▁▂▄▇▇▇████</td></tr><tr><td>metrics/mAP50-95(M)</td><td>▁▁▁▁▁▁▁▁▁▁</td></tr><tr><td>metrics/precision(B)</td><td>▁▂▃▄▆▆▆▇▇█</td></tr><tr><td>metrics/precision(M)</td><td>▁▁▁▁▁▁▁▁▁▁</td></tr><tr><td>metrics/recall(B)</td><td>▁▄▆▆█▇▆▆▆▆</td></tr><tr><td>metrics/recall(M)</td><td>▁▁▁▁▁▁▁▁▁▁</td></tr><tr><td>model/GFLOPs</td><td>▁</td></tr><tr><td>model/parameters</td><td>▁</td></tr><tr><td>model/speed_PyTorch(ms)</td><td>▁</td></tr><tr><td>train/box_loss</td><td>██▆▅▃▂▂▁▁▁</td></tr><tr><td>train/cls_loss</td><td>██▇▆▅▃▃▂▂▁</td></tr><tr><td>train/dfl_loss</td><td>█▇▆▅▃▂▂▁▁▁</td></tr><tr><td>train/seg_loss</td><td>█▆▄▂▂▁▁▁▁▁</td></tr><tr><td>val/box_loss</td><td>█▅▃▄▃▂▁▁▁▁</td></tr><tr><td>val/cls_loss</td><td>█▆▅▆▇▅▃▃▂▁</td></tr><tr><td>val/dfl_loss</td><td>█▅▃▃▃▂▁▁▁▁</td></tr><tr><td>val/seg_loss</td><td>█▆▃▂▁▁▁▁▁▁</td></tr></table><br/></div><div class=\"wandb-col\"><h3>Run summary:</h3><br/><table class=\"wandb\"><tr><td>lr/pg0</td><td>4e-05</td></tr><tr><td>lr/pg1</td><td>4e-05</td></tr><tr><td>lr/pg2</td><td>4e-05</td></tr><tr><td>metrics/mAP50(B)</td><td>0.19144</td></tr><tr><td>metrics/mAP50(M)</td><td>0.0</td></tr><tr><td>metrics/mAP50-95(B)</td><td>0.1028</td></tr><tr><td>metrics/mAP50-95(M)</td><td>0.0</td></tr><tr><td>metrics/precision(B)</td><td>0.08966</td></tr><tr><td>metrics/precision(M)</td><td>0.0</td></tr><tr><td>metrics/recall(B)</td><td>0.51666</td></tr><tr><td>metrics/recall(M)</td><td>0.0</td></tr><tr><td>model/GFLOPs</td><td>12.113</td></tr><tr><td>model/parameters</td><td>3264396</td></tr><tr><td>model/speed_PyTorch(ms)</td><td>126.05</td></tr><tr><td>train/box_loss</td><td>1.37726</td></tr><tr><td>train/cls_loss</td><td>2.75029</td></tr><tr><td>train/dfl_loss</td><td>1.91337</td></tr><tr><td>train/seg_loss</td><td>0.90891</td></tr><tr><td>val/box_loss</td><td>1.60312</td></tr><tr><td>val/cls_loss</td><td>3.08852</td></tr><tr><td>val/dfl_loss</td><td>2.0035</td></tr><tr><td>val/seg_loss</td><td>0.63376</td></tr></table><br/></div></div>"
      ],
      "text/plain": [
       "<IPython.core.display.HTML object>"
      ]
     },
     "metadata": {},
     "output_type": "display_data"
    },
    {
     "data": {
      "text/html": [
       " View run <strong style=\"color:#cdcd00\">train25</strong> at: <a href='https://wandb.ai/ds678-university-of-sussex/YOLOv8/runs/l3wz63ch' target=\"_blank\">https://wandb.ai/ds678-university-of-sussex/YOLOv8/runs/l3wz63ch</a><br/> View project at: <a href='https://wandb.ai/ds678-university-of-sussex/YOLOv8' target=\"_blank\">https://wandb.ai/ds678-university-of-sussex/YOLOv8</a><br/>Synced 5 W&B file(s), 25 media file(s), 9 artifact file(s) and 0 other file(s)"
      ],
      "text/plain": [
       "<IPython.core.display.HTML object>"
      ]
     },
     "metadata": {},
     "output_type": "display_data"
    },
    {
     "data": {
      "text/html": [
       "Find logs at: <code>.\\wandb\\run-20240721_220914-l3wz63ch\\logs</code>"
      ],
      "text/plain": [
       "<IPython.core.display.HTML object>"
      ]
     },
     "metadata": {},
     "output_type": "display_data"
    },
    {
     "data": {
      "text/html": [
       "The new W&B backend becomes opt-out in version 0.18.0; try it out with `wandb.require(\"core\")`! See https://wandb.me/wandb-core for more information."
      ],
      "text/plain": [
       "<IPython.core.display.HTML object>"
      ]
     },
     "metadata": {},
     "output_type": "display_data"
    },
    {
     "name": "stdout",
     "output_type": "stream",
     "text": [
      "\n",
      "Results before tuning:\n",
      "Class 0 (ClassicalEvaporation): (0.09315589353612168, 0.4336283185840708, 0.250085389285505, 0.12278906420411136, 0.0, 0.0, 0.0, 0.0)\n",
      "Class 1 (TransitionalMixing): (0.0794148380355277, 0.6129032258064516, 0.1611141367157776, 0.06536550694223706, 0.0, 0.0, 0.0, 0.0)\n",
      "Class 2 (DiffusiveMixing): (0.048859934853420196, 0.5113636363636364, 0.07180847931152634, 0.034011838849985994, 0.0, 0.0, 0.0, 0.0)\n",
      "IndexError: index 3 is out of bounds for axis 0 with size 3 for class index 3 (Spray)\n",
      "\n",
      "Results after tuning:\n",
      "Class 0 (ClassicalEvaporation): (0.11221945137157108, 0.39823008849557523, 0.1953125194679629, 0.10764474205390859, 0.0, 0.0, 0.0, 0.0)\n",
      "Class 1 (TransitionalMixing): (0.10051546391752578, 0.6290322580645161, 0.2829217896545582, 0.1463492875301516, 0.0, 0.0, 0.0, 0.0)\n",
      "Class 2 (DiffusiveMixing): (0.05623471882640587, 0.5227272727272727, 0.0960832671620879, 0.05440473375836739, 0.0, 0.0, 0.0, 0.0)\n",
      "IndexError: index 3 is out of bounds for axis 0 with size 3 for class index 3 (Spray)\n"
     ]
    },
    {
     "data": {
      "text/html": [
       "Tracking run with wandb version 0.17.5"
      ],
      "text/plain": [
       "<IPython.core.display.HTML object>"
      ]
     },
     "metadata": {},
     "output_type": "display_data"
    },
    {
     "data": {
      "text/html": [
       "Run data is saved locally in <code>C:\\Users\\devan\\OneDrive - University of Sussex\\SAF_Project\\Instance_seg_labels\\wandb\\run-20240721_221554-jmw3r2kq</code>"
      ],
      "text/plain": [
       "<IPython.core.display.HTML object>"
      ]
     },
     "metadata": {},
     "output_type": "display_data"
    },
    {
     "data": {
      "text/html": [
       "Syncing run <strong><a href='https://wandb.ai/ds678-university-of-sussex/my-awesome-project/runs/jmw3r2kq' target=\"_blank\">ethereal-elevator-2</a></strong> to <a href='https://wandb.ai/ds678-university-of-sussex/my-awesome-project' target=\"_blank\">Weights & Biases</a> (<a href='https://wandb.me/run' target=\"_blank\">docs</a>)<br/>"
      ],
      "text/plain": [
       "<IPython.core.display.HTML object>"
      ]
     },
     "metadata": {},
     "output_type": "display_data"
    },
    {
     "data": {
      "text/html": [
       " View project at <a href='https://wandb.ai/ds678-university-of-sussex/my-awesome-project' target=\"_blank\">https://wandb.ai/ds678-university-of-sussex/my-awesome-project</a>"
      ],
      "text/plain": [
       "<IPython.core.display.HTML object>"
      ]
     },
     "metadata": {},
     "output_type": "display_data"
    },
    {
     "data": {
      "text/html": [
       " View run at <a href='https://wandb.ai/ds678-university-of-sussex/my-awesome-project/runs/jmw3r2kq' target=\"_blank\">https://wandb.ai/ds678-university-of-sussex/my-awesome-project/runs/jmw3r2kq</a>"
      ],
      "text/plain": [
       "<IPython.core.display.HTML object>"
      ]
     },
     "metadata": {},
     "output_type": "display_data"
    },
    {
     "data": {
      "text/html": [
       "<style>\n",
       "    table.wandb td:nth-child(1) { padding: 0 10px; text-align: left ; width: auto;} td:nth-child(2) {text-align: left ; width: 100%}\n",
       "    .wandb-row { display: flex; flex-direction: row; flex-wrap: wrap; justify-content: flex-start; width: 100% }\n",
       "    .wandb-col { display: flex; flex-direction: column; flex-basis: 100%; flex: 1; padding: 10px; }\n",
       "    </style>\n",
       "<div class=\"wandb-row\"><div class=\"wandb-col\"><h3>Run history:</h3><br/><table class=\"wandb\"><tr><td>acc</td><td>▁▇▇▇█▇██</td></tr><tr><td>loss</td><td>█▅▃▃▃▁▂▂</td></tr></table><br/></div><div class=\"wandb-col\"><h3>Run summary:</h3><br/><table class=\"wandb\"><tr><td>acc</td><td>0.81103</td></tr><tr><td>loss</td><td>0.20133</td></tr></table><br/></div></div>"
      ],
      "text/plain": [
       "<IPython.core.display.HTML object>"
      ]
     },
     "metadata": {},
     "output_type": "display_data"
    },
    {
     "data": {
      "text/html": [
       " View run <strong style=\"color:#cdcd00\">ethereal-elevator-2</strong> at: <a href='https://wandb.ai/ds678-university-of-sussex/my-awesome-project/runs/jmw3r2kq' target=\"_blank\">https://wandb.ai/ds678-university-of-sussex/my-awesome-project/runs/jmw3r2kq</a><br/> View project at: <a href='https://wandb.ai/ds678-university-of-sussex/my-awesome-project' target=\"_blank\">https://wandb.ai/ds678-university-of-sussex/my-awesome-project</a><br/>Synced 4 W&B file(s), 0 media file(s), 0 artifact file(s) and 0 other file(s)"
      ],
      "text/plain": [
       "<IPython.core.display.HTML object>"
      ]
     },
     "metadata": {},
     "output_type": "display_data"
    },
    {
     "data": {
      "text/html": [
       "Find logs at: <code>.\\wandb\\run-20240721_221554-jmw3r2kq\\logs</code>"
      ],
      "text/plain": [
       "<IPython.core.display.HTML object>"
      ]
     },
     "metadata": {},
     "output_type": "display_data"
    },
    {
     "data": {
      "text/html": [
       "The new W&B backend becomes opt-out in version 0.18.0; try it out with `wandb.require(\"core\")`! See https://wandb.me/wandb-core for more information."
      ],
      "text/plain": [
       "<IPython.core.display.HTML object>"
      ]
     },
     "metadata": {},
     "output_type": "display_data"
    }
   ],
   "source": [
    "import json\n",
    "import os\n",
    "import shutil\n",
    "import numpy as np\n",
    "from sklearn.model_selection import train_test_split\n",
    "from PIL import Image, ImageEnhance, ImageOps\n",
    "import random\n",
    "import matplotlib.pyplot as plt\n",
    "import wandb\n",
    "from ultralytics import YOLO\n",
    "\n",
    "def augment_image(image):\n",
    "    # Change color\n",
    "    enhancer = ImageEnhance.Color(image)\n",
    "    image = enhancer.enhance(random.uniform(0.8, 1.2))\n",
    "\n",
    "    # Rotation\n",
    "    angle = random.choice([0, 90, 180, 270])\n",
    "    image = image.rotate(angle)\n",
    "\n",
    "    # Flipping\n",
    "    if random.choice([True, False]):\n",
    "        image = ImageOps.mirror(image)\n",
    "\n",
    "    return image\n",
    "\n",
    "def convert_coco_to_yolo(image_ids, images, annotations, categories, category_name_to_id, images_dir, output_dir):\n",
    "    os.makedirs(output_dir, exist_ok=True)\n",
    "    os.makedirs(os.path.join(output_dir, 'labels'), exist_ok=True)\n",
    "    os.makedirs(os.path.join(output_dir, 'images'), exist_ok=True)\n",
    "\n",
    "    for image_id in image_ids:\n",
    "        image_info = images[image_id]\n",
    "        image_filename = image_info['file_name']\n",
    "        image_width = image_info['width']\n",
    "        image_height = image_info['height']\n",
    "        image_path = os.path.join(images_dir, image_filename)\n",
    "\n",
    "        if not os.path.exists(image_path):\n",
    "            continue\n",
    "\n",
    "        image = Image.open(image_path)\n",
    "        image = augment_image(image)\n",
    "\n",
    "        output_image_path = os.path.join(output_dir, 'images', image_filename)\n",
    "        output_label_path = os.path.join(output_dir, 'labels', os.path.splitext(image_filename)[0] + '.txt')\n",
    "\n",
    "        image.save(output_image_path)\n",
    "\n",
    "        image_annotations = [ann for ann in annotations if ann['image_id'] == image_id]\n",
    "        with open(output_label_path, 'a') as f:\n",
    "            for annotation in image_annotations:\n",
    "                category_name = categories[annotation['category_id']]['name']\n",
    "                category_id = category_name_to_id[category_name]\n",
    "                \n",
    "                # Normalize bounding box coordinates\n",
    "                bbox = annotation['bbox']\n",
    "                bbox[0] /= image_width  # x\n",
    "                bbox[1] /= image_height # y\n",
    "                bbox[2] /= image_width  # width\n",
    "                bbox[3] /= image_height # height\n",
    "                bbox_str = ' '.join(map(str, bbox))\n",
    "\n",
    "                # Normalize segmentation points\n",
    "                segmentation = annotation['segmentation'][0]\n",
    "                segmentation = np.array(segmentation).reshape((-1, 2))\n",
    "                segmentation[:, 0] /= image_width   # x points\n",
    "                segmentation[:, 1] /= image_height  # y points\n",
    "                segmentation_str = ' '.join(map(str, segmentation.flatten()))\n",
    "\n",
    "                f.write(f\"{category_id} {bbox_str} {segmentation_str}\\n\")\n",
    "\n",
    "# Paths to your data\n",
    "coco_annotations_path = 'SAF22_COCO_CorentinDoche.json'\n",
    "images_dir = 'images'  # Change this to your image directory\n",
    "output_dir = 'output'  # Directory where YOLO formatted data will be saved\n",
    "\n",
    "# Load COCO annotations\n",
    "with open(coco_annotations_path, 'r') as f:\n",
    "    data = json.load(f)\n",
    "\n",
    "images = {image['id']: image for image in data['images']}\n",
    "annotations = data['annotations']\n",
    "categories = {category['id']: category for category in data['categories']}\n",
    "category_name_to_id = {category['name']: idx for idx, category in enumerate(categories.values())}\n",
    "\n",
    "# Collect all image IDs\n",
    "all_image_ids = list(images.keys())\n",
    "\n",
    "# Split data into train and validation sets\n",
    "train_image_ids, val_image_ids = train_test_split(all_image_ids, test_size=0.2, random_state=42)\n",
    "\n",
    "# Define paths for train and validation\n",
    "train_dir = os.path.join(output_dir, 'train')\n",
    "val_dir = os.path.join(output_dir, 'val')\n",
    "\n",
    "# Convert and save the training data\n",
    "convert_coco_to_yolo(train_image_ids, images, annotations, categories, category_name_to_id, images_dir, train_dir)\n",
    "\n",
    "# Convert and save the validation data\n",
    "convert_coco_to_yolo(val_image_ids, images, annotations, categories, category_name_to_id, images_dir, val_dir)\n",
    "\n",
    "print(\"Data converted and split into train and val sets successfully!\")\n",
    "\n",
    "# Load and train the model before tuning\n",
    "model = YOLO(\"yolov8n-seg.pt\")\n",
    "results_before = model.train(data=\"C:/Users/devan/OneDrive - University of Sussex/SAF_Project/Instance_seg_labels/custom_dataset.yaml\", epochs=5, imgsz=640)\n",
    "\n",
    "# Hyperparameter tuning and training\n",
    "model_tuned = YOLO(\"yolov8n-seg.pt\")\n",
    "\n",
    "# Example of hyperparameters tuning (change as needed)\n",
    "tuned_results = model_tuned.train(data=\"C:/Users/devan/OneDrive - University of Sussex/SAF_Project/Instance_seg_labels/custom_dataset.yaml\", epochs=10, imgsz=640, lr0=0.01, momentum=0.9)\n",
    "\n",
    "# Save the tuned model\n",
    "tuned_model_dir = 'tuned_model'\n",
    "os.makedirs(tuned_model_dir, exist_ok=True)\n",
    "tuned_model_path = os.path.join(tuned_model_dir, 'best.pt')\n",
    "model_tuned.save(tuned_model_path)\n",
    "\n",
    "# Compare results before and after tuning\n",
    "class_names = ['ClassicalEvaporation', 'TransitionalMixing', 'DiffusiveMixing', 'Spray']\n",
    "num_classes = len(class_names)\n",
    "\n",
    "print(\"\\nResults before tuning:\")\n",
    "for i in range(num_classes):\n",
    "    try:\n",
    "        result = results_before.class_result(i)\n",
    "        print(f\"Class {i} ({class_names[i]}): {result}\")\n",
    "    except IndexError as e:\n",
    "        print(f\"IndexError: {e} for class index {i} ({class_names[i]})\")\n",
    "\n",
    "print(\"\\nResults after tuning:\")\n",
    "for i in range(num_classes):\n",
    "    try:\n",
    "        result = tuned_results.class_result(i)\n",
    "        print(f\"Class {i} ({class_names[i]}): {result}\")\n",
    "    except IndexError as e:\n",
    "        print(f\"IndexError: {e} for class index {i} ({class_names[i]})\")\n",
    "\n",
    "# Initialize wandb for logging\n",
    "wandb.init(\n",
    "    project=\"my-awesome-project\",\n",
    "    config={\n",
    "        \"learning_rate\": 0.01,\n",
    "        \"architecture\": \"YOLOv8\",\n",
    "        \"dataset\": \"SAF_Project\",\n",
    "        \"epochs\": 10,\n",
    "    }\n",
    ")\n",
    "\n",
    "# Log metrics to wandb\n",
    "epochs = 10\n",
    "offset = random.random() / 5\n",
    "for epoch in range(2, epochs):\n",
    "    acc = 1 - 2 ** -epoch - random.random() / epoch - offset\n",
    "    loss = 2 ** -epoch + random.random() / epoch + offset\n",
    "    wandb.log({\"acc\": acc, \"loss\": loss})\n",
    "\n",
    "# Finish the wandb run\n",
    "wandb.finish()\n"
   ]
  },
  {
   "cell_type": "code",
   "execution_count": 1,
   "id": "5abf422c",
   "metadata": {
    "scrolled": true
   },
   "outputs": [
    {
     "ename": "SyntaxError",
     "evalue": "(unicode error) 'unicodeescape' codec can't decode bytes in position 2-3: truncated \\UXXXXXXXX escape (1280568635.py, line 1)",
     "output_type": "error",
     "traceback": [
      "\u001b[1;36m  Cell \u001b[1;32mIn[1], line 1\u001b[1;36m\u001b[0m\n\u001b[1;33m    model.predict(path =\"C:\\Users\\devan\\OneDrive - University of Sussex\\SAF_Project\\Instance_seg_labels\\output\\val\\images\" ,show=True, save=True, hide_labels=False, hide_conf=False, conf=0.5, save_txt=False, save_crop=False, line_thickness=2)\u001b[0m\n\u001b[1;37m                        ^\u001b[0m\n\u001b[1;31mSyntaxError\u001b[0m\u001b[1;31m:\u001b[0m (unicode error) 'unicodeescape' codec can't decode bytes in position 2-3: truncated \\UXXXXXXXX escape\n"
     ]
    }
   ],
   "source": [
    "model.predict(path =\"C:\\Users\\devan\\OneDrive - University of Sussex\\SAF_Project\\Instance_seg_labels\\output\\val\\images\" ,show=True, save=True, hide_labels=False, hide_conf=False, conf=0.5, save_txt=False, save_crop=False, line_thickness=2)"
   ]
  },
  {
   "cell_type": "code",
   "execution_count": 5,
   "id": "2a7b63fd",
   "metadata": {},
   "outputs": [
    {
     "name": "stdout",
     "output_type": "stream",
     "text": [
      "\n",
      "image 1/1 C:\\Users\\devan\\OneDrive - University of Sussex\\SAF_Project\\Instance_seg_labels\\output\\val\\images\\ABTCWS002_frame_23.png: 480x640 (no detections), 125.6ms\n",
      "Speed: 0.0ms preprocess, 125.6ms inference, 0.0ms postprocess per image at shape (1, 3, 480, 640)\n",
      "Results saved to \u001b[1mruns\\segment\\predict\u001b[0m\n"
     ]
    },
    {
     "data": {
      "text/plain": [
       "[ultralytics.engine.results.Results object with attributes:\n",
       " \n",
       " boxes: ultralytics.engine.results.Boxes object\n",
       " keypoints: None\n",
       " masks: None\n",
       " names: {0: 'person', 1: 'bicycle', 2: 'car', 3: 'motorcycle', 4: 'airplane', 5: 'bus', 6: 'train', 7: 'truck', 8: 'boat', 9: 'traffic light', 10: 'fire hydrant', 11: 'stop sign', 12: 'parking meter', 13: 'bench', 14: 'bird', 15: 'cat', 16: 'dog', 17: 'horse', 18: 'sheep', 19: 'cow', 20: 'elephant', 21: 'bear', 22: 'zebra', 23: 'giraffe', 24: 'backpack', 25: 'umbrella', 26: 'handbag', 27: 'tie', 28: 'suitcase', 29: 'frisbee', 30: 'skis', 31: 'snowboard', 32: 'sports ball', 33: 'kite', 34: 'baseball bat', 35: 'baseball glove', 36: 'skateboard', 37: 'surfboard', 38: 'tennis racket', 39: 'bottle', 40: 'wine glass', 41: 'cup', 42: 'fork', 43: 'knife', 44: 'spoon', 45: 'bowl', 46: 'banana', 47: 'apple', 48: 'sandwich', 49: 'orange', 50: 'broccoli', 51: 'carrot', 52: 'hot dog', 53: 'pizza', 54: 'donut', 55: 'cake', 56: 'chair', 57: 'couch', 58: 'potted plant', 59: 'bed', 60: 'dining table', 61: 'toilet', 62: 'tv', 63: 'laptop', 64: 'mouse', 65: 'remote', 66: 'keyboard', 67: 'cell phone', 68: 'microwave', 69: 'oven', 70: 'toaster', 71: 'sink', 72: 'refrigerator', 73: 'book', 74: 'clock', 75: 'vase', 76: 'scissors', 77: 'teddy bear', 78: 'hair drier', 79: 'toothbrush'}\n",
       " obb: None\n",
       " orig_img: array([[[  0,   0,   0],\n",
       "         [  0,   0,   0],\n",
       "         [  0,   0,   0],\n",
       "         ...,\n",
       "         [143, 143, 143],\n",
       "         [146, 146, 146],\n",
       "         [157, 157, 157]],\n",
       " \n",
       "        [[  0,   0,   0],\n",
       "         [  0,   0,   0],\n",
       "         [  0,   0,   0],\n",
       "         ...,\n",
       "         [139, 139, 139],\n",
       "         [140, 140, 140],\n",
       "         [150, 150, 150]],\n",
       " \n",
       "        [[  0,   0,   0],\n",
       "         [  0,   0,   0],\n",
       "         [  0,   0,   0],\n",
       "         ...,\n",
       "         [146, 146, 146],\n",
       "         [146, 146, 146],\n",
       "         [154, 154, 154]],\n",
       " \n",
       "        ...,\n",
       " \n",
       "        [[  0,   0,   0],\n",
       "         [  0,   0,   0],\n",
       "         [  0,   0,   0],\n",
       "         ...,\n",
       "         [192, 192, 192],\n",
       "         [193, 193, 193],\n",
       "         [204, 204, 204]],\n",
       " \n",
       "        [[  0,   0,   0],\n",
       "         [  0,   0,   0],\n",
       "         [  0,   0,   0],\n",
       "         ...,\n",
       "         [179, 179, 179],\n",
       "         [187, 187, 187],\n",
       "         [195, 195, 195]],\n",
       " \n",
       "        [[  0,   0,   0],\n",
       "         [  0,   0,   0],\n",
       "         [  0,   0,   0],\n",
       "         ...,\n",
       "         [186, 186, 186],\n",
       "         [185, 185, 185],\n",
       "         [199, 199, 199]]], dtype=uint8)\n",
       " orig_shape: (1536, 2072)\n",
       " path: 'C:\\\\Users\\\\devan\\\\OneDrive - University of Sussex\\\\SAF_Project\\\\Instance_seg_labels\\\\output\\\\val\\\\images\\\\ABTCWS002_frame_23.png'\n",
       " probs: None\n",
       " save_dir: 'runs\\\\segment\\\\predict'\n",
       " speed: {'preprocess': 0.0, 'inference': 125.60081481933594, 'postprocess': 0.0}]"
      ]
     },
     "execution_count": 5,
     "metadata": {},
     "output_type": "execute_result"
    }
   ],
   "source": [
    "from ultralytics import YOLO\n",
    "\n",
    "# Load the model\n",
    "model = YOLO(\"yolov8n-seg.pt\")\n",
    "\n",
    "# Perform predictions\n",
    "model.predict(\n",
    "    source=r\"C:\\Users\\devan\\OneDrive - University of Sussex\\SAF_Project\\Instance_seg_labels\\output\\val\\images\\ABTCWS002_frame_23.png\",\n",
    "    show=True,\n",
    "    save=True,\n",
    "    show_labels=True,\n",
    "    show_conf=True,\n",
    "    conf=0.5,\n",
    "    save_txt=False,\n",
    "    save_crop=False,\n",
    "    line_width=2\n",
    ")\n",
    "\n"
   ]
  },
  {
   "cell_type": "code",
   "execution_count": 2,
   "id": "ad0c3aac",
   "metadata": {},
   "outputs": [
    {
     "name": "stdout",
     "output_type": "stream",
     "text": [
      "Downloading https://github.com/ultralytics/assets/releases/download/v8.2.0/yolov8m-seg.pt to 'yolov8m-seg.pt'...\n"
     ]
    },
    {
     "name": "stderr",
     "output_type": "stream",
     "text": [
      "100%|█████████████████████████████████████████████████████████████████████████████| 52.4M/52.4M [00:02<00:00, 24.4MB/s]\n"
     ]
    }
   ],
   "source": [
    "# load a pretrained model (recommended for training)\n",
    "model = YOLO(\"yolov8m-seg.pt\") "
   ]
  },
  {
   "cell_type": "code",
   "execution_count": 3,
   "id": "ec2970fc",
   "metadata": {
    "scrolled": false
   },
   "outputs": [
    {
     "name": "stdout",
     "output_type": "stream",
     "text": [
      "New https://pypi.org/project/ultralytics/8.2.63 available  Update with 'pip install -U ultralytics'\n",
      "Ultralytics YOLOv8.2.61  Python-3.12.4 torch-2.3.1+cpu CPU (11th Gen Intel Core(TM) i7-1165G7 2.80GHz)\n",
      "\u001b[34m\u001b[1mengine\\trainer: \u001b[0mtask=segment, mode=train, model=yolov8m-seg.pt, data=C:/Users/devan/OneDrive - University of Sussex/SAF_Project/Instance_seg_labels/custom_dataset.yaml, epochs=5, time=None, patience=100, batch=16, imgsz=640, save=True, save_period=-1, cache=False, device=None, workers=8, project=None, name=train26, exist_ok=False, pretrained=True, optimizer=auto, verbose=True, seed=0, deterministic=True, single_cls=False, rect=False, cos_lr=False, close_mosaic=10, resume=False, amp=True, fraction=1.0, profile=False, freeze=None, multi_scale=False, overlap_mask=True, mask_ratio=4, dropout=0.0, val=True, split=val, save_json=False, save_hybrid=False, conf=None, iou=0.7, max_det=300, half=False, dnn=False, plots=True, source=None, vid_stride=1, stream_buffer=False, visualize=False, augment=False, agnostic_nms=False, classes=None, retina_masks=False, embed=None, show=False, save_frames=False, save_txt=False, save_conf=False, save_crop=False, show_labels=True, show_conf=True, show_boxes=True, line_width=None, format=torchscript, keras=False, optimize=False, int8=False, dynamic=False, simplify=False, opset=None, workspace=4, nms=False, lr0=0.01, lrf=0.01, momentum=0.937, weight_decay=0.0005, warmup_epochs=3.0, warmup_momentum=0.8, warmup_bias_lr=0.1, box=7.5, cls=0.5, dfl=1.5, pose=12.0, kobj=1.0, label_smoothing=0.0, nbs=64, hsv_h=0.015, hsv_s=0.7, hsv_v=0.4, degrees=0.0, translate=0.1, scale=0.5, shear=0.0, perspective=0.0, flipud=0.0, fliplr=0.5, bgr=0.0, mosaic=1.0, mixup=0.0, copy_paste=0.0, auto_augment=randaugment, erasing=0.4, crop_fraction=1.0, cfg=None, tracker=botsort.yaml, save_dir=runs\\segment\\train26\n",
      "Overriding model.yaml nc=80 with nc=4\n",
      "\n",
      "                   from  n    params  module                                       arguments                     \n",
      "  0                  -1  1      1392  ultralytics.nn.modules.conv.Conv             [3, 48, 3, 2]                 \n",
      "  1                  -1  1     41664  ultralytics.nn.modules.conv.Conv             [48, 96, 3, 2]                \n",
      "  2                  -1  2    111360  ultralytics.nn.modules.block.C2f             [96, 96, 2, True]             \n",
      "  3                  -1  1    166272  ultralytics.nn.modules.conv.Conv             [96, 192, 3, 2]               \n",
      "  4                  -1  4    813312  ultralytics.nn.modules.block.C2f             [192, 192, 4, True]           \n",
      "  5                  -1  1    664320  ultralytics.nn.modules.conv.Conv             [192, 384, 3, 2]              \n",
      "  6                  -1  4   3248640  ultralytics.nn.modules.block.C2f             [384, 384, 4, True]           \n",
      "  7                  -1  1   1991808  ultralytics.nn.modules.conv.Conv             [384, 576, 3, 2]              \n",
      "  8                  -1  2   3985920  ultralytics.nn.modules.block.C2f             [576, 576, 2, True]           \n",
      "  9                  -1  1    831168  ultralytics.nn.modules.block.SPPF            [576, 576, 5]                 \n",
      " 10                  -1  1         0  torch.nn.modules.upsampling.Upsample         [None, 2, 'nearest']          \n",
      " 11             [-1, 6]  1         0  ultralytics.nn.modules.conv.Concat           [1]                           \n",
      " 12                  -1  2   1993728  ultralytics.nn.modules.block.C2f             [960, 384, 2]                 \n",
      " 13                  -1  1         0  torch.nn.modules.upsampling.Upsample         [None, 2, 'nearest']          \n",
      " 14             [-1, 4]  1         0  ultralytics.nn.modules.conv.Concat           [1]                           \n",
      " 15                  -1  2    517632  ultralytics.nn.modules.block.C2f             [576, 192, 2]                 \n",
      " 16                  -1  1    332160  ultralytics.nn.modules.conv.Conv             [192, 192, 3, 2]              \n",
      " 17            [-1, 12]  1         0  ultralytics.nn.modules.conv.Concat           [1]                           \n",
      " 18                  -1  2   1846272  ultralytics.nn.modules.block.C2f             [576, 384, 2]                 \n",
      " 19                  -1  1   1327872  ultralytics.nn.modules.conv.Conv             [384, 384, 3, 2]              \n",
      " 20             [-1, 9]  1         0  ultralytics.nn.modules.conv.Concat           [1]                           \n",
      " 21                  -1  2   4207104  ultralytics.nn.modules.block.C2f             [960, 576, 2]                 \n",
      " 22        [15, 18, 21]  1   5161340  ultralytics.nn.modules.head.Segment          [4, 32, 192, [192, 384, 576]] \n",
      "YOLOv8m-seg summary: 331 layers, 27,241,964 parameters, 27,241,948 gradients, 110.4 GFLOPs\n",
      "\n",
      "Transferred 531/537 items from pretrained weights\n"
     ]
    },
    {
     "name": "stderr",
     "output_type": "stream",
     "text": [
      "Failed to detect the name of this notebook, you can set it manually with the WANDB_NOTEBOOK_NAME environment variable to enable code saving.\n",
      "\u001b[34m\u001b[1mwandb\u001b[0m: Currently logged in as: \u001b[33mds678\u001b[0m (\u001b[33mds678-university-of-sussex\u001b[0m). Use \u001b[1m`wandb login --relogin`\u001b[0m to force relogin\n"
     ]
    },
    {
     "data": {
      "text/html": [
       "Tracking run with wandb version 0.17.5"
      ],
      "text/plain": [
       "<IPython.core.display.HTML object>"
      ]
     },
     "metadata": {},
     "output_type": "display_data"
    },
    {
     "data": {
      "text/html": [
       "Run data is saved locally in <code>C:\\Users\\devan\\OneDrive - University of Sussex\\SAF_Project\\Instance_seg_labels\\wandb\\run-20240723_143045-0pllxgtf</code>"
      ],
      "text/plain": [
       "<IPython.core.display.HTML object>"
      ]
     },
     "metadata": {},
     "output_type": "display_data"
    },
    {
     "data": {
      "text/html": [
       "Syncing run <strong><a href='https://wandb.ai/ds678-university-of-sussex/YOLOv8/runs/0pllxgtf' target=\"_blank\">train26</a></strong> to <a href='https://wandb.ai/ds678-university-of-sussex/YOLOv8' target=\"_blank\">Weights & Biases</a> (<a href='https://wandb.me/run' target=\"_blank\">docs</a>)<br/>"
      ],
      "text/plain": [
       "<IPython.core.display.HTML object>"
      ]
     },
     "metadata": {},
     "output_type": "display_data"
    },
    {
     "data": {
      "text/html": [
       " View project at <a href='https://wandb.ai/ds678-university-of-sussex/YOLOv8' target=\"_blank\">https://wandb.ai/ds678-university-of-sussex/YOLOv8</a>"
      ],
      "text/plain": [
       "<IPython.core.display.HTML object>"
      ]
     },
     "metadata": {},
     "output_type": "display_data"
    },
    {
     "data": {
      "text/html": [
       " View run at <a href='https://wandb.ai/ds678-university-of-sussex/YOLOv8/runs/0pllxgtf' target=\"_blank\">https://wandb.ai/ds678-university-of-sussex/YOLOv8/runs/0pllxgtf</a>"
      ],
      "text/plain": [
       "<IPython.core.display.HTML object>"
      ]
     },
     "metadata": {},
     "output_type": "display_data"
    },
    {
     "name": "stdout",
     "output_type": "stream",
     "text": [
      "Freezing layer 'model.22.dfl.conv.weight'\n"
     ]
    },
    {
     "name": "stderr",
     "output_type": "stream",
     "text": [
      "\u001b[34m\u001b[1mtrain: \u001b[0mScanning C:\\Users\\devan\\OneDrive - University of Sussex\\SAF_Project\\Instance_seg_labels\\output\\train\\labels... 4\u001b[0m"
     ]
    },
    {
     "name": "stdout",
     "output_type": "stream",
     "text": [
      "\u001b[34m\u001b[1mtrain: \u001b[0mWARNING  C:\\Users\\devan\\OneDrive - University of Sussex\\SAF_Project\\Instance_seg_labels\\output\\train\\images\\ABCCWS001_frame_13.png: 4 duplicate labels removed\n",
      "\u001b[34m\u001b[1mtrain: \u001b[0mWARNING  C:\\Users\\devan\\OneDrive - University of Sussex\\SAF_Project\\Instance_seg_labels\\output\\train\\images\\ABCCWS001_frame_14.png: 5 duplicate labels removed\n",
      "\u001b[34m\u001b[1mtrain: \u001b[0mWARNING  C:\\Users\\devan\\OneDrive - University of Sussex\\SAF_Project\\Instance_seg_labels\\output\\train\\images\\ABCCWS001_frame_22.png: 255 duplicate labels removed\n",
      "\u001b[34m\u001b[1mtrain: \u001b[0mWARNING  C:\\Users\\devan\\OneDrive - University of Sussex\\SAF_Project\\Instance_seg_labels\\output\\train\\images\\ABCCWS001_frame_23.png: 235 duplicate labels removed\n",
      "\u001b[34m\u001b[1mtrain: \u001b[0mWARNING  C:\\Users\\devan\\OneDrive - University of Sussex\\SAF_Project\\Instance_seg_labels\\output\\train\\images\\ABCCWS001_frame_25.png: 120 duplicate labels removed\n",
      "\u001b[34m\u001b[1mtrain: \u001b[0mWARNING  C:\\Users\\devan\\OneDrive - University of Sussex\\SAF_Project\\Instance_seg_labels\\output\\train\\images\\ABCCWS001_frame_26.png: 80 duplicate labels removed\n",
      "\u001b[34m\u001b[1mtrain: \u001b[0mWARNING  C:\\Users\\devan\\OneDrive - University of Sussex\\SAF_Project\\Instance_seg_labels\\output\\train\\images\\ABCCWS002_frame_21.png: 236 duplicate labels removed\n",
      "\u001b[34m\u001b[1mtrain: \u001b[0mWARNING  C:\\Users\\devan\\OneDrive - University of Sussex\\SAF_Project\\Instance_seg_labels\\output\\train\\images\\ABCCWS002_frame_24.png: 140 duplicate labels removed\n",
      "\u001b[34m\u001b[1mtrain: \u001b[0mWARNING  C:\\Users\\devan\\OneDrive - University of Sussex\\SAF_Project\\Instance_seg_labels\\output\\train\\images\\ABTCWS002_frame_21.png: 225 duplicate labels removed\n",
      "\u001b[34m\u001b[1mtrain: \u001b[0mWARNING  C:\\Users\\devan\\OneDrive - University of Sussex\\SAF_Project\\Instance_seg_labels\\output\\train\\images\\ABTCWS002_frame_24.png: 84 duplicate labels removed\n",
      "\u001b[34m\u001b[1mtrain: \u001b[0mWARNING  C:\\Users\\devan\\OneDrive - University of Sussex\\SAF_Project\\Instance_seg_labels\\output\\train\\images\\ABTCWS002_frame_39.png: 15 duplicate labels removed\n",
      "\u001b[34m\u001b[1mtrain: \u001b[0mWARNING  C:\\Users\\devan\\OneDrive - University of Sussex\\SAF_Project\\Instance_seg_labels\\output\\train\\images\\ABTCWS004_frame_13.png: 4 duplicate labels removed\n",
      "\u001b[34m\u001b[1mtrain: \u001b[0mWARNING  C:\\Users\\devan\\OneDrive - University of Sussex\\SAF_Project\\Instance_seg_labels\\output\\train\\images\\ABTCWS004_frame_21.png: 196 duplicate labels removed\n",
      "\u001b[34m\u001b[1mtrain: \u001b[0mWARNING  C:\\Users\\devan\\OneDrive - University of Sussex\\SAF_Project\\Instance_seg_labels\\output\\train\\images\\ABTCWS004_frame_24.png: 105 duplicate labels removed\n",
      "\u001b[34m\u001b[1mtrain: \u001b[0mWARNING  C:\\Users\\devan\\OneDrive - University of Sussex\\SAF_Project\\Instance_seg_labels\\output\\train\\images\\ABTCWS004_frame_25.png: 75 duplicate labels removed\n",
      "\u001b[34m\u001b[1mtrain: \u001b[0mWARNING  C:\\Users\\devan\\OneDrive - University of Sussex\\SAF_Project\\Instance_seg_labels\\output\\train\\images\\ABTCWS004_frame_28.png: 55 duplicate labels removed\n",
      "\u001b[34m\u001b[1mtrain: \u001b[0mWARNING  C:\\Users\\devan\\OneDrive - University of Sussex\\SAF_Project\\Instance_seg_labels\\output\\train\\images\\ABXCWS002_frame_27.png: 64 duplicate labels removed\n",
      "\u001b[34m\u001b[1mtrain: \u001b[0mWARNING  C:\\Users\\devan\\OneDrive - University of Sussex\\SAF_Project\\Instance_seg_labels\\output\\train\\images\\BBCCWS001_frame_13.png: 4 duplicate labels removed\n",
      "\u001b[34m\u001b[1mtrain: \u001b[0mWARNING  C:\\Users\\devan\\OneDrive - University of Sussex\\SAF_Project\\Instance_seg_labels\\output\\train\\images\\BBCCWS001_frame_14.png: 60 duplicate labels removed\n",
      "\u001b[34m\u001b[1mtrain: \u001b[0mWARNING  C:\\Users\\devan\\OneDrive - University of Sussex\\SAF_Project\\Instance_seg_labels\\output\\train\\images\\BBXCWS003_frame_26.png: 45 duplicate labels removed\n",
      "\u001b[34m\u001b[1mtrain: \u001b[0mWARNING  C:\\Users\\devan\\OneDrive - University of Sussex\\SAF_Project\\Instance_seg_labels\\output\\train\\images\\FBKAVS001_frame_14.png: 4 duplicate labels removed\n",
      "\u001b[34m\u001b[1mtrain: \u001b[0mWARNING  C:\\Users\\devan\\OneDrive - University of Sussex\\SAF_Project\\Instance_seg_labels\\output\\train\\images\\FBKAVS001_frame_21.png: 350 duplicate labels removed\n",
      "\u001b[34m\u001b[1mtrain: \u001b[0mWARNING  C:\\Users\\devan\\OneDrive - University of Sussex\\SAF_Project\\Instance_seg_labels\\output\\train\\images\\FBKAVS001_frame_25.png: 130 duplicate labels removed\n",
      "\u001b[34m\u001b[1mtrain: \u001b[0mWARNING  C:\\Users\\devan\\OneDrive - University of Sussex\\SAF_Project\\Instance_seg_labels\\output\\train\\images\\FBXCWS001_frame_14.png: 5 duplicate labels removed\n",
      "\u001b[34m\u001b[1mtrain: \u001b[0mWARNING  C:\\Users\\devan\\OneDrive - University of Sussex\\SAF_Project\\Instance_seg_labels\\output\\train\\images\\FBXCWS001_frame_20.png: 230 duplicate labels removed\n",
      "\u001b[34m\u001b[1mtrain: \u001b[0mWARNING  C:\\Users\\devan\\OneDrive - University of Sussex\\SAF_Project\\Instance_seg_labels\\output\\train\\images\\FBXCWS001_frame_21.png: 90 duplicate labels removed\n",
      "\u001b[34m\u001b[1mtrain: \u001b[0mWARNING  C:\\Users\\devan\\OneDrive - University of Sussex\\SAF_Project\\Instance_seg_labels\\output\\train\\images\\FBXCWS001_frame_22.png: 44 duplicate labels removed\n",
      "\u001b[34m\u001b[1mtrain: \u001b[0mWARNING  C:\\Users\\devan\\OneDrive - University of Sussex\\SAF_Project\\Instance_seg_labels\\output\\train\\images\\FBXCWS001_frame_24.png: 80 duplicate labels removed\n",
      "\u001b[34m\u001b[1mtrain: \u001b[0mWARNING  C:\\Users\\devan\\OneDrive - University of Sussex\\SAF_Project\\Instance_seg_labels\\output\\train\\images\\FBXCWS001_frame_26.png: 50 duplicate labels removed\n",
      "\u001b[34m\u001b[1mtrain: \u001b[0mWARNING  C:\\Users\\devan\\OneDrive - University of Sussex\\SAF_Project\\Instance_seg_labels\\output\\train\\images\\JBIDVS003_frame_13.png: 5 duplicate labels removed\n",
      "\u001b[34m\u001b[1mtrain: \u001b[0mWARNING  C:\\Users\\devan\\OneDrive - University of Sussex\\SAF_Project\\Instance_seg_labels\\output\\train\\images\\JBIDVS003_frame_20.png: 212 duplicate labels removed\n",
      "\u001b[34m\u001b[1mtrain: \u001b[0mWARNING  C:\\Users\\devan\\OneDrive - University of Sussex\\SAF_Project\\Instance_seg_labels\\output\\train\\images\\JBIDVS003_frame_22.png: 260 duplicate labels removed\n",
      "\u001b[34m\u001b[1mtrain: \u001b[0mWARNING  C:\\Users\\devan\\OneDrive - University of Sussex\\SAF_Project\\Instance_seg_labels\\output\\train\\images\\JBIDVS003_frame_28.png: 75 duplicate labels removed\n",
      "\u001b[34m\u001b[1mtrain: \u001b[0mWARNING  C:\\Users\\devan\\OneDrive - University of Sussex\\SAF_Project\\Instance_seg_labels\\output\\train\\images\\JBKLWS002_frame_13.png: 5 duplicate labels removed\n",
      "\u001b[34m\u001b[1mtrain: \u001b[0mWARNING  C:\\Users\\devan\\OneDrive - University of Sussex\\SAF_Project\\Instance_seg_labels\\output\\train\\images\\JBVDVS002_frame_21.png: 304 duplicate labels removed\n",
      "\u001b[34m\u001b[1mtrain: \u001b[0mWARNING  C:\\Users\\devan\\OneDrive - University of Sussex\\SAF_Project\\Instance_seg_labels\\output\\train\\images\\JBVDVS002_frame_23.png: 225 duplicate labels removed\n",
      "\u001b[34m\u001b[1mtrain: \u001b[0mWARNING  C:\\Users\\devan\\OneDrive - University of Sussex\\SAF_Project\\Instance_seg_labels\\output\\train\\images\\SBTCWS003_frame_21.png: 165 duplicate labels removed\n",
      "\u001b[34m\u001b[1mtrain: \u001b[0mWARNING  C:\\Users\\devan\\OneDrive - University of Sussex\\SAF_Project\\Instance_seg_labels\\output\\train\\images\\SBTCWS003_frame_23.png: 100 duplicate labels removed\n",
      "\u001b[34m\u001b[1mtrain: \u001b[0mWARNING  C:\\Users\\devan\\OneDrive - University of Sussex\\SAF_Project\\Instance_seg_labels\\output\\train\\images\\SBTCWS003_frame_24.png: 115 duplicate labels removed\n",
      "\u001b[34m\u001b[1mtrain: \u001b[0mWARNING  C:\\Users\\devan\\OneDrive - University of Sussex\\SAF_Project\\Instance_seg_labels\\output\\train\\images\\SBTCWS003_frame_26.png: ignoring corrupt image/label: cannot identify image file 'C:\\\\Users\\\\devan\\\\OneDrive - University of Sussex\\\\SAF_Project\\\\Instance_seg_labels\\\\output\\\\train\\\\images\\\\SBTCWS003_frame_26.png'\n",
      "\u001b[34m\u001b[1mtrain: \u001b[0mWARNING  C:\\Users\\devan\\OneDrive - University of Sussex\\SAF_Project\\Instance_seg_labels\\output\\train\\images\\SBVCVS002_frame_20.png: 300 duplicate labels removed\n",
      "\u001b[34m\u001b[1mtrain: \u001b[0mWARNING  C:\\Users\\devan\\OneDrive - University of Sussex\\SAF_Project\\Instance_seg_labels\\output\\train\\images\\SBVCVS002_frame_21.png: 200 duplicate labels removed\n",
      "\u001b[34m\u001b[1mtrain: \u001b[0mNew cache created: C:\\Users\\devan\\OneDrive - University of Sussex\\SAF_Project\\Instance_seg_labels\\output\\train\\labels.cache\n"
     ]
    },
    {
     "name": "stderr",
     "output_type": "stream",
     "text": [
      "\n",
      "\u001b[34m\u001b[1mval: \u001b[0mScanning C:\\Users\\devan\\OneDrive - University of Sussex\\SAF_Project\\Instance_seg_labels\\output\\val\\labels.cache...\u001b[0m"
     ]
    },
    {
     "name": "stdout",
     "output_type": "stream",
     "text": [
      "\u001b[34m\u001b[1mval: \u001b[0mWARNING  C:\\Users\\devan\\OneDrive - University of Sussex\\SAF_Project\\Instance_seg_labels\\output\\val\\images\\ABTCWS002_frame_23.png: 92 duplicate labels removed\n",
      "\u001b[34m\u001b[1mval: \u001b[0mWARNING  C:\\Users\\devan\\OneDrive - University of Sussex\\SAF_Project\\Instance_seg_labels\\output\\val\\images\\ABTCWS002_frame_26.png: 52 duplicate labels removed\n",
      "\u001b[34m\u001b[1mval: \u001b[0mWARNING  C:\\Users\\devan\\OneDrive - University of Sussex\\SAF_Project\\Instance_seg_labels\\output\\val\\images\\ABTCWS004_frame_20.png: 312 duplicate labels removed\n",
      "\u001b[34m\u001b[1mval: \u001b[0mWARNING  C:\\Users\\devan\\OneDrive - University of Sussex\\SAF_Project\\Instance_seg_labels\\output\\val\\images\\ABTCWS004_frame_23.png: 112 duplicate labels removed\n",
      "\u001b[34m\u001b[1mval: \u001b[0mWARNING  C:\\Users\\devan\\OneDrive - University of Sussex\\SAF_Project\\Instance_seg_labels\\output\\val\\images\\ABXCWS002_frame_25.png: 92 duplicate labels removed\n",
      "\u001b[34m\u001b[1mval: \u001b[0mWARNING  C:\\Users\\devan\\OneDrive - University of Sussex\\SAF_Project\\Instance_seg_labels\\output\\val\\images\\BBCCWS001_frame_21.png: 332 duplicate labels removed\n",
      "\u001b[34m\u001b[1mval: \u001b[0mWARNING  C:\\Users\\devan\\OneDrive - University of Sussex\\SAF_Project\\Instance_seg_labels\\output\\val\\images\\FBKAVS001_frame_23.png: 148 duplicate labels removed\n",
      "\u001b[34m\u001b[1mval: \u001b[0mWARNING  C:\\Users\\devan\\OneDrive - University of Sussex\\SAF_Project\\Instance_seg_labels\\output\\val\\images\\JBVDVS002_frame_20.png: 340 duplicate labels removed\n",
      "\u001b[34m\u001b[1mval: \u001b[0mWARNING  C:\\Users\\devan\\OneDrive - University of Sussex\\SAF_Project\\Instance_seg_labels\\output\\val\\images\\SBTCWS003_frame_22.png: 124 duplicate labels removed\n",
      "\u001b[34m\u001b[1mval: \u001b[0mWARNING  C:\\Users\\devan\\OneDrive - University of Sussex\\SAF_Project\\Instance_seg_labels\\output\\val\\images\\SBTCWS003_frame_27.png: 56 duplicate labels removed\n",
      "\u001b[34m\u001b[1mval: \u001b[0mWARNING  C:\\Users\\devan\\OneDrive - University of Sussex\\SAF_Project\\Instance_seg_labels\\output\\val\\images\\SBVCVS002_frame_23.png: 92 duplicate labels removed\n"
     ]
    },
    {
     "name": "stderr",
     "output_type": "stream",
     "text": [
      "\n"
     ]
    },
    {
     "name": "stdout",
     "output_type": "stream",
     "text": [
      "Plotting labels to runs\\segment\\train26\\labels.jpg... \n",
      "\u001b[34m\u001b[1moptimizer:\u001b[0m 'optimizer=auto' found, ignoring 'lr0=0.01' and 'momentum=0.937' and determining best 'optimizer', 'lr0' and 'momentum' automatically... \n",
      "\u001b[34m\u001b[1moptimizer:\u001b[0m AdamW(lr=0.00125, momentum=0.9) with parameter groups 86 weight(decay=0.0), 97 weight(decay=0.0005), 96 bias(decay=0.0)\n",
      "Image sizes 640 train, 640 val\n",
      "Using 0 dataloader workers\n",
      "Logging results to \u001b[1mruns\\segment\\train26\u001b[0m\n",
      "Starting training for 5 epochs...\n",
      "\n",
      "      Epoch    GPU_mem   box_loss   seg_loss   cls_loss   dfl_loss  Instances       Size\n"
     ]
    },
    {
     "name": "stderr",
     "output_type": "stream",
     "text": [
      "        1/5         0G      2.684      6.032      3.835      2.876        443        640: 100%|██████████| 3/3 [03:06<0\n",
      "                 Class     Images  Instances      Box(P          R      mAP50  mAP50-95)     Mask(P          R      mAP"
     ]
    },
    {
     "name": "stdout",
     "output_type": "stream",
     "text": [
      "                   all         11        438     0.0505      0.277     0.0572      0.023          0          0          0          0\n"
     ]
    },
    {
     "name": "stderr",
     "output_type": "stream",
     "text": [
      "\n"
     ]
    },
    {
     "name": "stdout",
     "output_type": "stream",
     "text": [
      "\n",
      "      Epoch    GPU_mem   box_loss   seg_loss   cls_loss   dfl_loss  Instances       Size\n"
     ]
    },
    {
     "name": "stderr",
     "output_type": "stream",
     "text": [
      "        2/5         0G      2.308      4.461      3.391      2.658        496        640: 100%|██████████| 3/3 [02:36<0\n",
      "                 Class     Images  Instances      Box(P          R      mAP50  mAP50-95)     Mask(P          R      mAP"
     ]
    },
    {
     "name": "stdout",
     "output_type": "stream",
     "text": [
      "                   all         11        438       0.17      0.215      0.167     0.0693          0          0          0          0\n"
     ]
    },
    {
     "name": "stderr",
     "output_type": "stream",
     "text": [
      "\n"
     ]
    },
    {
     "name": "stdout",
     "output_type": "stream",
     "text": [
      "\n",
      "      Epoch    GPU_mem   box_loss   seg_loss   cls_loss   dfl_loss  Instances       Size\n"
     ]
    },
    {
     "name": "stderr",
     "output_type": "stream",
     "text": [
      "        3/5         0G      2.175       2.85       2.97      2.481        396        640: 100%|██████████| 3/3 [02:46<0\n",
      "                 Class     Images  Instances      Box(P          R      mAP50  mAP50-95)     Mask(P          R      mAP"
     ]
    },
    {
     "name": "stdout",
     "output_type": "stream",
     "text": [
      "WARNING  NMS time limit 2.550s exceeded\n"
     ]
    },
    {
     "name": "stderr",
     "output_type": "stream",
     "text": [
      "                 Class     Images  Instances      Box(P          R      mAP50  mAP50-95)     Mask(P          R      mAP"
     ]
    },
    {
     "name": "stdout",
     "output_type": "stream",
     "text": [
      "                   all         11        438       0.21      0.304      0.196     0.0941          0          0          0          0\n"
     ]
    },
    {
     "name": "stderr",
     "output_type": "stream",
     "text": [
      "\n"
     ]
    },
    {
     "name": "stdout",
     "output_type": "stream",
     "text": [
      "\n",
      "      Epoch    GPU_mem   box_loss   seg_loss   cls_loss   dfl_loss  Instances       Size\n"
     ]
    },
    {
     "name": "stderr",
     "output_type": "stream",
     "text": [
      "        4/5         0G      2.109      1.911      2.829      2.363        613        640: 100%|██████████| 3/3 [05:00<0\n",
      "                 Class     Images  Instances      Box(P          R      mAP50  mAP50-95)     Mask(P          R      mAP"
     ]
    },
    {
     "name": "stdout",
     "output_type": "stream",
     "text": [
      "WARNING  NMS time limit 2.550s exceeded\n"
     ]
    },
    {
     "name": "stderr",
     "output_type": "stream",
     "text": [
      "                 Class     Images  Instances      Box(P          R      mAP50  mAP50-95)     Mask(P          R      mAP"
     ]
    },
    {
     "name": "stdout",
     "output_type": "stream",
     "text": [
      "                   all         11        438      0.171      0.237      0.145     0.0681          0          0          0          0\n"
     ]
    },
    {
     "name": "stderr",
     "output_type": "stream",
     "text": [
      "\n"
     ]
    },
    {
     "name": "stdout",
     "output_type": "stream",
     "text": [
      "\n",
      "      Epoch    GPU_mem   box_loss   seg_loss   cls_loss   dfl_loss  Instances       Size\n"
     ]
    },
    {
     "name": "stderr",
     "output_type": "stream",
     "text": [
      "        5/5         0G      2.005      1.587      2.754      2.308        470        640: 100%|██████████| 3/3 [03:02<0\n",
      "                 Class     Images  Instances      Box(P          R      mAP50  mAP50-95)     Mask(P          R      mAP"
     ]
    },
    {
     "name": "stdout",
     "output_type": "stream",
     "text": [
      "                   all         11        438      0.123      0.296      0.113     0.0548          0          0          0          0\n"
     ]
    },
    {
     "name": "stderr",
     "output_type": "stream",
     "text": [
      "\n"
     ]
    },
    {
     "name": "stdout",
     "output_type": "stream",
     "text": [
      "\n",
      "5 epochs completed in 0.297 hours.\n",
      "Optimizer stripped from runs\\segment\\train26\\weights\\last.pt, 54.8MB\n",
      "Optimizer stripped from runs\\segment\\train26\\weights\\best.pt, 54.8MB\n",
      "\n",
      "Validating runs\\segment\\train26\\weights\\best.pt...\n",
      "Ultralytics YOLOv8.2.61  Python-3.12.4 torch-2.3.1+cpu CPU (11th Gen Intel Core(TM) i7-1165G7 2.80GHz)\n",
      "YOLOv8m-seg summary (fused): 245 layers, 27,224,700 parameters, 0 gradients, 110.0 GFLOPs\n"
     ]
    },
    {
     "name": "stderr",
     "output_type": "stream",
     "text": [
      "\r",
      "                 Class     Images  Instances      Box(P          R      mAP50  mAP50-95)     Mask(P          R      mAP"
     ]
    },
    {
     "name": "stdout",
     "output_type": "stream",
     "text": [
      "WARNING  NMS time limit 2.550s exceeded\n"
     ]
    },
    {
     "name": "stderr",
     "output_type": "stream",
     "text": [
      "                 Class     Images  Instances      Box(P          R      mAP50  mAP50-95)     Mask(P          R      mAP\n"
     ]
    },
    {
     "name": "stdout",
     "output_type": "stream",
     "text": [
      "                   all         11        438      0.208      0.305      0.195     0.0943          0          0          0          0\n",
      "  ClassicalEvaporation         11        226      0.129      0.358      0.185     0.0928          0          0          0          0\n",
      "    TransitionalMixing         11        124       0.45      0.476      0.357      0.173          0          0          0          0\n",
      "       DiffusiveMixing          7         88     0.0451     0.0795     0.0416     0.0169          0          0          0          0\n",
      "Speed: 1.8ms preprocess, 678.0ms inference, 0.0ms loss, 241.7ms postprocess per image\n",
      "Results saved to \u001b[1mruns\\segment\\train26\u001b[0m\n"
     ]
    },
    {
     "data": {
      "text/html": [
       "<style>\n",
       "    table.wandb td:nth-child(1) { padding: 0 10px; text-align: left ; width: auto;} td:nth-child(2) {text-align: left ; width: 100%}\n",
       "    .wandb-row { display: flex; flex-direction: row; flex-wrap: wrap; justify-content: flex-start; width: 100% }\n",
       "    .wandb-col { display: flex; flex-direction: column; flex-basis: 100%; flex: 1; padding: 10px; }\n",
       "    </style>\n",
       "<div class=\"wandb-row\"><div class=\"wandb-col\"><h3>Run history:</h3><br/><table class=\"wandb\"><tr><td>lr/pg0</td><td>▁▆█▇▃</td></tr><tr><td>lr/pg1</td><td>▁▆█▇▃</td></tr><tr><td>lr/pg2</td><td>▁▆█▇▃</td></tr><tr><td>metrics/mAP50(B)</td><td>▁▇█▅█</td></tr><tr><td>metrics/mAP50(M)</td><td>▁▁▁▁▁</td></tr><tr><td>metrics/mAP50-95(B)</td><td>▁▆█▅█</td></tr><tr><td>metrics/mAP50-95(M)</td><td>▁▁▁▁▁</td></tr><tr><td>metrics/precision(B)</td><td>▁▆█▆█</td></tr><tr><td>metrics/precision(M)</td><td>▁▁▁▁▁</td></tr><tr><td>metrics/recall(B)</td><td>▆▁█▃█</td></tr><tr><td>metrics/recall(M)</td><td>▁▁▁▁▁</td></tr><tr><td>model/GFLOPs</td><td>▁</td></tr><tr><td>model/parameters</td><td>▁</td></tr><tr><td>model/speed_PyTorch(ms)</td><td>▁</td></tr><tr><td>train/box_loss</td><td>█▄▃▂▁</td></tr><tr><td>train/cls_loss</td><td>█▅▂▁▁</td></tr><tr><td>train/dfl_loss</td><td>█▅▃▂▁</td></tr><tr><td>train/seg_loss</td><td>█▆▃▂▁</td></tr><tr><td>val/box_loss</td><td>█▃▁▁▁</td></tr><tr><td>val/cls_loss</td><td>▃▁█▆█</td></tr><tr><td>val/dfl_loss</td><td>█▃▁▁▁</td></tr><tr><td>val/seg_loss</td><td>█▃▁▁▁</td></tr></table><br/></div><div class=\"wandb-col\"><h3>Run summary:</h3><br/><table class=\"wandb\"><tr><td>lr/pg0</td><td>4e-05</td></tr><tr><td>lr/pg1</td><td>4e-05</td></tr><tr><td>lr/pg2</td><td>4e-05</td></tr><tr><td>metrics/mAP50(B)</td><td>0.19469</td></tr><tr><td>metrics/mAP50(M)</td><td>0.0</td></tr><tr><td>metrics/mAP50-95(B)</td><td>0.09426</td></tr><tr><td>metrics/mAP50-95(M)</td><td>0.0</td></tr><tr><td>metrics/precision(B)</td><td>0.20801</td></tr><tr><td>metrics/precision(M)</td><td>0.0</td></tr><tr><td>metrics/recall(B)</td><td>0.30459</td></tr><tr><td>metrics/recall(M)</td><td>0.0</td></tr><tr><td>model/GFLOPs</td><td>110.401</td></tr><tr><td>model/parameters</td><td>27241964</td></tr><tr><td>model/speed_PyTorch(ms)</td><td>683.816</td></tr><tr><td>train/box_loss</td><td>2.0048</td></tr><tr><td>train/cls_loss</td><td>2.75364</td></tr><tr><td>train/dfl_loss</td><td>2.30804</td></tr><tr><td>train/seg_loss</td><td>1.58702</td></tr><tr><td>val/box_loss</td><td>1.49598</td></tr><tr><td>val/cls_loss</td><td>4.2228</td></tr><tr><td>val/dfl_loss</td><td>1.99243</td></tr><tr><td>val/seg_loss</td><td>0.67434</td></tr></table><br/></div></div>"
      ],
      "text/plain": [
       "<IPython.core.display.HTML object>"
      ]
     },
     "metadata": {},
     "output_type": "display_data"
    },
    {
     "data": {
      "text/html": [
       " View run <strong style=\"color:#cdcd00\">train26</strong> at: <a href='https://wandb.ai/ds678-university-of-sussex/YOLOv8/runs/0pllxgtf' target=\"_blank\">https://wandb.ai/ds678-university-of-sussex/YOLOv8/runs/0pllxgtf</a><br/> View project at: <a href='https://wandb.ai/ds678-university-of-sussex/YOLOv8' target=\"_blank\">https://wandb.ai/ds678-university-of-sussex/YOLOv8</a><br/>Synced 5 W&B file(s), 25 media file(s), 9 artifact file(s) and 0 other file(s)"
      ],
      "text/plain": [
       "<IPython.core.display.HTML object>"
      ]
     },
     "metadata": {},
     "output_type": "display_data"
    },
    {
     "data": {
      "text/html": [
       "Find logs at: <code>.\\wandb\\run-20240723_143045-0pllxgtf\\logs</code>"
      ],
      "text/plain": [
       "<IPython.core.display.HTML object>"
      ]
     },
     "metadata": {},
     "output_type": "display_data"
    },
    {
     "data": {
      "text/html": [
       "The new W&B backend becomes opt-out in version 0.18.0; try it out with `wandb.require(\"core\")`! See https://wandb.me/wandb-core for more information."
      ],
      "text/plain": [
       "<IPython.core.display.HTML object>"
      ]
     },
     "metadata": {},
     "output_type": "display_data"
    }
   ],
   "source": [
    "# Train the model\n",
    "results = model.train(data=\"C:/Users/devan/OneDrive - University of Sussex/SAF_Project/Instance_seg_labels/custom_dataset.yaml\", epochs=5, imgsz=640)"
   ]
  },
  {
   "cell_type": "code",
   "execution_count": 4,
   "id": "bdde9243",
   "metadata": {},
   "outputs": [
    {
     "data": {
      "text/html": [
       "Tracking run with wandb version 0.17.5"
      ],
      "text/plain": [
       "<IPython.core.display.HTML object>"
      ]
     },
     "metadata": {},
     "output_type": "display_data"
    },
    {
     "data": {
      "text/html": [
       "Run data is saved locally in <code>C:\\Users\\devan\\OneDrive - University of Sussex\\SAF_Project\\Instance_seg_labels\\wandb\\run-20240723_145056-yxewkcny</code>"
      ],
      "text/plain": [
       "<IPython.core.display.HTML object>"
      ]
     },
     "metadata": {},
     "output_type": "display_data"
    },
    {
     "data": {
      "text/html": [
       "Syncing run <strong><a href='https://wandb.ai/ds678-university-of-sussex/my-awesome-project/runs/yxewkcny' target=\"_blank\">fallen-rain-3</a></strong> to <a href='https://wandb.ai/ds678-university-of-sussex/my-awesome-project' target=\"_blank\">Weights & Biases</a> (<a href='https://wandb.me/run' target=\"_blank\">docs</a>)<br/>"
      ],
      "text/plain": [
       "<IPython.core.display.HTML object>"
      ]
     },
     "metadata": {},
     "output_type": "display_data"
    },
    {
     "data": {
      "text/html": [
       " View project at <a href='https://wandb.ai/ds678-university-of-sussex/my-awesome-project' target=\"_blank\">https://wandb.ai/ds678-university-of-sussex/my-awesome-project</a>"
      ],
      "text/plain": [
       "<IPython.core.display.HTML object>"
      ]
     },
     "metadata": {},
     "output_type": "display_data"
    },
    {
     "data": {
      "text/html": [
       " View run at <a href='https://wandb.ai/ds678-university-of-sussex/my-awesome-project/runs/yxewkcny' target=\"_blank\">https://wandb.ai/ds678-university-of-sussex/my-awesome-project/runs/yxewkcny</a>"
      ],
      "text/plain": [
       "<IPython.core.display.HTML object>"
      ]
     },
     "metadata": {},
     "output_type": "display_data"
    },
    {
     "data": {
      "text/html": [
       "<style>\n",
       "    table.wandb td:nth-child(1) { padding: 0 10px; text-align: left ; width: auto;} td:nth-child(2) {text-align: left ; width: 100%}\n",
       "    .wandb-row { display: flex; flex-direction: row; flex-wrap: wrap; justify-content: flex-start; width: 100% }\n",
       "    .wandb-col { display: flex; flex-direction: column; flex-basis: 100%; flex: 1; padding: 10px; }\n",
       "    </style>\n",
       "<div class=\"wandb-row\"><div class=\"wandb-col\"><h3>Run history:</h3><br/><table class=\"wandb\"><tr><td>acc</td><td>▁▆▅▇▆███</td></tr><tr><td>loss</td><td>█▄▃▃▂▁▁▂</td></tr></table><br/></div><div class=\"wandb-col\"><h3>Run summary:</h3><br/><table class=\"wandb\"><tr><td>acc</td><td>0.83</td></tr><tr><td>loss</td><td>0.17314</td></tr></table><br/></div></div>"
      ],
      "text/plain": [
       "<IPython.core.display.HTML object>"
      ]
     },
     "metadata": {},
     "output_type": "display_data"
    },
    {
     "data": {
      "text/html": [
       " View run <strong style=\"color:#cdcd00\">fallen-rain-3</strong> at: <a href='https://wandb.ai/ds678-university-of-sussex/my-awesome-project/runs/yxewkcny' target=\"_blank\">https://wandb.ai/ds678-university-of-sussex/my-awesome-project/runs/yxewkcny</a><br/> View project at: <a href='https://wandb.ai/ds678-university-of-sussex/my-awesome-project' target=\"_blank\">https://wandb.ai/ds678-university-of-sussex/my-awesome-project</a><br/>Synced 4 W&B file(s), 0 media file(s), 0 artifact file(s) and 0 other file(s)"
      ],
      "text/plain": [
       "<IPython.core.display.HTML object>"
      ]
     },
     "metadata": {},
     "output_type": "display_data"
    },
    {
     "data": {
      "text/html": [
       "Find logs at: <code>.\\wandb\\run-20240723_145056-yxewkcny\\logs</code>"
      ],
      "text/plain": [
       "<IPython.core.display.HTML object>"
      ]
     },
     "metadata": {},
     "output_type": "display_data"
    },
    {
     "data": {
      "text/html": [
       "The new W&B backend becomes opt-out in version 0.18.0; try it out with `wandb.require(\"core\")`! See https://wandb.me/wandb-core for more information."
      ],
      "text/plain": [
       "<IPython.core.display.HTML object>"
      ]
     },
     "metadata": {},
     "output_type": "display_data"
    }
   ],
   "source": [
    "# Initialize wandb for logging\n",
    "wandb.init(\n",
    "    project=\"my-awesome-project\",\n",
    "    config={\n",
    "        \"learning_rate\": 0.01,\n",
    "        \"architecture\": \"YOLOv8\",\n",
    "        \"dataset\": \"SAF_Project\",\n",
    "        \"epochs\": 10,\n",
    "    }\n",
    ")\n",
    "\n",
    "# Log metrics to wandb\n",
    "epochs = 10\n",
    "offset = random.random() / 5\n",
    "for epoch in range(2, epochs):\n",
    "    acc = 1 - 2 ** -epoch - random.random() / epoch - offset\n",
    "    loss = 2 ** -epoch + random.random() / epoch + offset\n",
    "    wandb.log({\"acc\": acc, \"loss\": loss})\n",
    "\n",
    "# Finish the wandb run\n",
    "wandb.finish()"
   ]
  },
  {
   "cell_type": "code",
   "execution_count": null,
   "id": "add7ed6d",
   "metadata": {},
   "outputs": [],
   "source": []
  }
 ],
 "metadata": {
  "kernelspec": {
   "display_name": "myvenv2",
   "language": "python",
   "name": "myvenv2"
  },
  "language_info": {
   "codemirror_mode": {
    "name": "ipython",
    "version": 3
   },
   "file_extension": ".py",
   "mimetype": "text/x-python",
   "name": "python",
   "nbconvert_exporter": "python",
   "pygments_lexer": "ipython3",
   "version": "3.12.4"
  }
 },
 "nbformat": 4,
 "nbformat_minor": 5
}
